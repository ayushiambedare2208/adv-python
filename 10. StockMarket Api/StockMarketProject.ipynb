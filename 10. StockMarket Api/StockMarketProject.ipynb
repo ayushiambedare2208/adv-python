{
 "cells": [
  {
   "cell_type": "markdown",
   "id": "7daabc24",
   "metadata": {},
   "source": [
    "## STOCK MARKET API PROJECT "
   ]
  },
  {
   "cell_type": "markdown",
   "id": "f7c9428a",
   "metadata": {},
   "source": [
    "Collect stock data for any given company using RapidAPI\n",
    "1. Create an account on RapidAPI - https://rapidapi.com/auth/sign-up\n",
    "2. Alpha Vantage API - https://rapidapi.com/alphavantage/api/alpha-vantage"
   ]
  },
  {
   "cell_type": "markdown",
   "id": "c2e86519",
   "metadata": {},
   "source": [
    "Install required package"
   ]
  },
  {
   "cell_type": "code",
   "execution_count": 1,
   "id": "9e620656",
   "metadata": {},
   "outputs": [
    {
     "name": "stdout",
     "output_type": "stream",
     "text": [
      "Collecting python-dotenv\n",
      "  Downloading python_dotenv-1.1.0-py3-none-any.whl.metadata (24 kB)\n",
      "Requirement already satisfied: requests in d:\\adv python\\repository\\venv\\lib\\site-packages (2.32.3)\n",
      "Requirement already satisfied: charset-normalizer<4,>=2 in d:\\adv python\\repository\\venv\\lib\\site-packages (from requests) (3.4.1)\n",
      "Requirement already satisfied: idna<4,>=2.5 in d:\\adv python\\repository\\venv\\lib\\site-packages (from requests) (3.10)\n",
      "Requirement already satisfied: urllib3<3,>=1.21.1 in d:\\adv python\\repository\\venv\\lib\\site-packages (from requests) (2.3.0)\n",
      "Requirement already satisfied: certifi>=2017.4.17 in d:\\adv python\\repository\\venv\\lib\\site-packages (from requests) (2025.1.31)\n",
      "Downloading python_dotenv-1.1.0-py3-none-any.whl (20 kB)\n",
      "Installing collected packages: python-dotenv\n",
      "Successfully installed python-dotenv-1.1.0\n",
      "Note: you may need to restart the kernel to use updated packages.\n"
     ]
    }
   ],
   "source": [
    "%pip install python-dotenv requests"
   ]
  },
  {
   "cell_type": "code",
   "execution_count": 1,
   "id": "b0a49b8f",
   "metadata": {},
   "outputs": [
    {
     "data": {
      "text/plain": [
       "True"
      ]
     },
     "execution_count": 1,
     "metadata": {},
     "output_type": "execute_result"
    }
   ],
   "source": [
    "# LOAD API KEY FORN .env FILE\n",
    "from dotenv import load_dotenv\n",
    "load_dotenv()"
   ]
  },
  {
   "cell_type": "code",
   "execution_count": 2,
   "id": "7c6ec1ea",
   "metadata": {},
   "outputs": [],
   "source": [
    "import os\n",
    "api_key = os.getenv(\"API_KEY\")"
   ]
  },
  {
   "cell_type": "markdown",
   "id": "7261035c",
   "metadata": {},
   "source": [
    "SYMBOL SEARCH FUNCTIONALITY"
   ]
  },
  {
   "cell_type": "code",
   "execution_count": 4,
   "id": "625de218",
   "metadata": {},
   "outputs": [
    {
     "data": {
      "text/plain": [
       "{'bestMatches': [{'1. symbol': 'SBIN.BSE',\n",
       "   '2. name': 'State Bank of India',\n",
       "   '3. type': 'Equity',\n",
       "   '4. region': 'India/Bombay',\n",
       "   '5. marketOpen': '09:15',\n",
       "   '6. marketClose': '15:30',\n",
       "   '7. timezone': 'UTC+5.5',\n",
       "   '8. currency': 'INR',\n",
       "   '9. matchScore': '1.0000'},\n",
       "  {'1. symbol': 'SBKFF',\n",
       "   '2. name': 'State Bank of India',\n",
       "   '3. type': 'Equity',\n",
       "   '4. region': 'United States',\n",
       "   '5. marketOpen': '09:30',\n",
       "   '6. marketClose': '16:00',\n",
       "   '7. timezone': 'UTC-04',\n",
       "   '8. currency': 'USD',\n",
       "   '9. matchScore': '1.0000'},\n",
       "  {'1. symbol': 'SID.FRK',\n",
       "   '2. name': 'State Bank of India',\n",
       "   '3. type': 'Equity',\n",
       "   '4. region': 'Frankfurt',\n",
       "   '5. marketOpen': '08:00',\n",
       "   '6. marketClose': '20:00',\n",
       "   '7. timezone': 'UTC+02',\n",
       "   '8. currency': 'EUR',\n",
       "   '9. matchScore': '1.0000'},\n",
       "  {'1. symbol': 'SBID.LON',\n",
       "   '2. name': 'State Bank of India GDR',\n",
       "   '3. type': 'Equity',\n",
       "   '4. region': 'United Kingdom',\n",
       "   '5. marketOpen': '08:00',\n",
       "   '6. marketClose': '16:30',\n",
       "   '7. timezone': 'UTC+01',\n",
       "   '8. currency': 'USD',\n",
       "   '9. matchScore': '0.9048'}]}"
      ]
     },
     "execution_count": 4,
     "metadata": {},
     "output_type": "execute_result"
    }
   ],
   "source": [
    "import requests\n",
    "\n",
    "url = \"https://alpha-vantage.p.rapidapi.com/query\"\n",
    "\n",
    "querystring = {\"datatype\":\"json\",\"keywords\":\"State Bank of India\",\"function\":\"SYMBOL_SEARCH\"}\n",
    "\n",
    "headers = {\n",
    "\t\"x-rapidapi-key\": api_key,\n",
    "\t\"x-rapidapi-host\": \"alpha-vantage.p.rapidapi.com\"\n",
    "}\n",
    "\n",
    "response = requests.get(url, headers=headers, params=querystring)\n",
    "\n",
    "data = response.json()\n",
    "\n",
    "data"
   ]
  },
  {
   "cell_type": "code",
   "execution_count": 5,
   "id": "ae39bf7a",
   "metadata": {},
   "outputs": [
    {
     "data": {
      "text/plain": [
       "dict"
      ]
     },
     "execution_count": 5,
     "metadata": {},
     "output_type": "execute_result"
    }
   ],
   "source": [
    "type(data)"
   ]
  },
  {
   "cell_type": "code",
   "execution_count": 6,
   "id": "acb9adf2",
   "metadata": {},
   "outputs": [
    {
     "data": {
      "text/plain": [
       "[{'1. symbol': 'SBIN.BSE',\n",
       "  '2. name': 'State Bank of India',\n",
       "  '3. type': 'Equity',\n",
       "  '4. region': 'India/Bombay',\n",
       "  '5. marketOpen': '09:15',\n",
       "  '6. marketClose': '15:30',\n",
       "  '7. timezone': 'UTC+5.5',\n",
       "  '8. currency': 'INR',\n",
       "  '9. matchScore': '1.0000'},\n",
       " {'1. symbol': 'SBKFF',\n",
       "  '2. name': 'State Bank of India',\n",
       "  '3. type': 'Equity',\n",
       "  '4. region': 'United States',\n",
       "  '5. marketOpen': '09:30',\n",
       "  '6. marketClose': '16:00',\n",
       "  '7. timezone': 'UTC-04',\n",
       "  '8. currency': 'USD',\n",
       "  '9. matchScore': '1.0000'},\n",
       " {'1. symbol': 'SID.FRK',\n",
       "  '2. name': 'State Bank of India',\n",
       "  '3. type': 'Equity',\n",
       "  '4. region': 'Frankfurt',\n",
       "  '5. marketOpen': '08:00',\n",
       "  '6. marketClose': '20:00',\n",
       "  '7. timezone': 'UTC+02',\n",
       "  '8. currency': 'EUR',\n",
       "  '9. matchScore': '1.0000'},\n",
       " {'1. symbol': 'SBID.LON',\n",
       "  '2. name': 'State Bank of India GDR',\n",
       "  '3. type': 'Equity',\n",
       "  '4. region': 'United Kingdom',\n",
       "  '5. marketOpen': '08:00',\n",
       "  '6. marketClose': '16:30',\n",
       "  '7. timezone': 'UTC+01',\n",
       "  '8. currency': 'USD',\n",
       "  '9. matchScore': '0.9048'}]"
      ]
     },
     "execution_count": 6,
     "metadata": {},
     "output_type": "execute_result"
    }
   ],
   "source": [
    "symbols = data[\"bestMatches\"]\n",
    "symbols"
   ]
  },
  {
   "cell_type": "code",
   "execution_count": 8,
   "id": "f1de8f87",
   "metadata": {},
   "outputs": [],
   "source": [
    "symbol_new = {}\n",
    "for i in symbols:\n",
    "    s = i[\"1. symbol\"]\n",
    "    symbol_new[s] = [i[\"2. name\"], i[\"4. region\"], i[\"8. currency\"]]"
   ]
  },
  {
   "cell_type": "code",
   "execution_count": 9,
   "id": "0c1dbddf",
   "metadata": {},
   "outputs": [
    {
     "data": {
      "text/plain": [
       "{'SBIN.BSE': ['State Bank of India', 'India/Bombay', 'INR'],\n",
       " 'SBKFF': ['State Bank of India', 'United States', 'USD'],\n",
       " 'SID.FRK': ['State Bank of India', 'Frankfurt', 'EUR'],\n",
       " 'SBID.LON': ['State Bank of India GDR', 'United Kingdom', 'USD']}"
      ]
     },
     "execution_count": 9,
     "metadata": {},
     "output_type": "execute_result"
    }
   ],
   "source": [
    "symbol_new"
   ]
  },
  {
   "cell_type": "code",
   "execution_count": 10,
   "id": "182bc939",
   "metadata": {},
   "outputs": [
    {
     "data": {
      "text/plain": [
       "{'Meta Data': {'1. Information': 'Daily Prices (open, high, low, close) and Volumes',\n",
       "  '2. Symbol': 'SBIN.BSE',\n",
       "  '3. Last Refreshed': '2025-04-17',\n",
       "  '4. Output Size': 'Compact',\n",
       "  '5. Time Zone': 'US/Eastern'},\n",
       " 'Time Series (Daily)': {'2025-04-17': {'1. open': '771.1000',\n",
       "   '2. high': '801.0000',\n",
       "   '3. low': '767.2500',\n",
       "   '4. close': '797.1000',\n",
       "   '5. volume': '738676'},\n",
       "  '2025-04-16': {'1. open': '764.0000',\n",
       "   '2. high': '774.5500',\n",
       "   '3. low': '760.4000',\n",
       "   '4. close': '771.7500',\n",
       "   '5. volume': '477621'},\n",
       "  '2025-04-15': {'1. open': '768.0500',\n",
       "   '2. high': '770.6000',\n",
       "   '3. low': '757.6500',\n",
       "   '4. close': '763.3000',\n",
       "   '5. volume': '763643'},\n",
       "  '2025-04-11': {'1. open': '759.9500',\n",
       "   '2. high': '759.9500',\n",
       "   '3. low': '746.1500',\n",
       "   '4. close': '754.0500',\n",
       "   '5. volume': '593599'},\n",
       "  '2025-04-09': {'1. open': '768.8000',\n",
       "   '2. high': '769.0000',\n",
       "   '3. low': '740.7500',\n",
       "   '4. close': '742.0500',\n",
       "   '5. volume': '467660'},\n",
       "  '2025-04-08': {'1. open': '757.0000',\n",
       "   '2. high': '774.1000',\n",
       "   '3. low': '757.0000',\n",
       "   '4. close': '768.4000',\n",
       "   '5. volume': '490787'},\n",
       "  '2025-04-07': {'1. open': '732.3000',\n",
       "   '2. high': '752.9500',\n",
       "   '3. low': '730.9500',\n",
       "   '4. close': '746.7500',\n",
       "   '5. volume': '775236'},\n",
       "  '2025-04-04': {'1. open': '779.2000',\n",
       "   '2. high': '782.2500',\n",
       "   '3. low': '765.0000',\n",
       "   '4. close': '767.8000',\n",
       "   '5. volume': '392420'},\n",
       "  '2025-04-03': {'1. open': '770.0000',\n",
       "   '2. high': '784.8500',\n",
       "   '3. low': '770.0000',\n",
       "   '4. close': '779.2000',\n",
       "   '5. volume': '284146'},\n",
       "  '2025-04-02': {'1. open': '772.0000',\n",
       "   '2. high': '776.8000',\n",
       "   '3. low': '764.3000',\n",
       "   '4. close': '775.8500',\n",
       "   '5. volume': '134131'},\n",
       "  '2025-04-01': {'1. open': '767.9500',\n",
       "   '2. high': '782.5000',\n",
       "   '3. low': '763.0500',\n",
       "   '4. close': '771.5000',\n",
       "   '5. volume': '458492'},\n",
       "  '2025-03-28': {'1. open': '770.7000',\n",
       "   '2. high': '778.4500',\n",
       "   '3. low': '768.0000',\n",
       "   '4. close': '771.6000',\n",
       "   '5. volume': '514260'},\n",
       "  '2025-03-27': {'1. open': '762.7000',\n",
       "   '2. high': '775.0000',\n",
       "   '3. low': '760.7500',\n",
       "   '4. close': '772.4000',\n",
       "   '5. volume': '243074'},\n",
       "  '2025-03-26': {'1. open': '770.3000',\n",
       "   '2. high': '775.9500',\n",
       "   '3. low': '761.8000',\n",
       "   '4. close': '763.3500',\n",
       "   '5. volume': '346155'},\n",
       "  '2025-03-25': {'1. open': '784.4000',\n",
       "   '2. high': '786.0000',\n",
       "   '3. low': '769.6500',\n",
       "   '4. close': '773.0500',\n",
       "   '5. volume': '841085'},\n",
       "  '2025-03-24': {'1. open': '758.5000',\n",
       "   '2. high': '783.1500',\n",
       "   '3. low': '755.0500',\n",
       "   '4. close': '781.4000',\n",
       "   '5. volume': '459986'},\n",
       "  '2025-03-21': {'1. open': '749.1500',\n",
       "   '2. high': '755.4000',\n",
       "   '3. low': '747.2000',\n",
       "   '4. close': '753.0000',\n",
       "   '5. volume': '285630'},\n",
       "  '2025-03-20': {'1. open': '749.9500',\n",
       "   '2. high': '752.8000',\n",
       "   '3. low': '744.2000',\n",
       "   '4. close': '749.2000',\n",
       "   '5. volume': '150865'},\n",
       "  '2025-03-19': {'1. open': '739.9000',\n",
       "   '2. high': '749.0000',\n",
       "   '3. low': '739.2500',\n",
       "   '4. close': '745.0500',\n",
       "   '5. volume': '408821'},\n",
       "  '2025-03-18': {'1. open': '727.0000',\n",
       "   '2. high': '738.5000',\n",
       "   '3. low': '723.0000',\n",
       "   '4. close': '737.0500',\n",
       "   '5. volume': '178857'},\n",
       "  '2025-03-17': {'1. open': '729.0000',\n",
       "   '2. high': '730.9500',\n",
       "   '3. low': '722.1000',\n",
       "   '4. close': '722.7000',\n",
       "   '5. volume': '197841'},\n",
       "  '2025-03-13': {'1. open': '726.9000',\n",
       "   '2. high': '731.4500',\n",
       "   '3. low': '724.3500',\n",
       "   '4. close': '727.7500',\n",
       "   '5. volume': '229142'},\n",
       "  '2025-03-12': {'1. open': '729.9500',\n",
       "   '2. high': '736.5000',\n",
       "   '3. low': '719.2000',\n",
       "   '4. close': '722.9000',\n",
       "   '5. volume': '198814'},\n",
       "  '2025-03-11': {'1. open': '724.9000',\n",
       "   '2. high': '733.9000',\n",
       "   '3. low': '722.5000',\n",
       "   '4. close': '729.9500',\n",
       "   '5. volume': '285624'},\n",
       "  '2025-03-10': {'1. open': '732.9500',\n",
       "   '2. high': '738.4500',\n",
       "   '3. low': '727.0500',\n",
       "   '4. close': '728.3500',\n",
       "   '5. volume': '339175'},\n",
       "  '2025-03-07': {'1. open': '732.9500',\n",
       "   '2. high': '734.9000',\n",
       "   '3. low': '727.9500',\n",
       "   '4. close': '732.7500',\n",
       "   '5. volume': '288192'},\n",
       "  '2025-03-06': {'1. open': '737.9500',\n",
       "   '2. high': '737.9500',\n",
       "   '3. low': '727.1000',\n",
       "   '4. close': '731.9500',\n",
       "   '5. volume': '321519'},\n",
       "  '2025-03-05': {'1. open': '718.8500',\n",
       "   '2. high': '731.0000',\n",
       "   '3. low': '717.8000',\n",
       "   '4. close': '730.2500',\n",
       "   '5. volume': '628448'},\n",
       "  '2025-03-04': {'1. open': '693.4000',\n",
       "   '2. high': '718.1500',\n",
       "   '3. low': '692.1500',\n",
       "   '4. close': '716.1500',\n",
       "   '5. volume': '587355'},\n",
       "  '2025-03-03': {'1. open': '692.2500',\n",
       "   '2. high': '696.8500',\n",
       "   '3. low': '679.6500',\n",
       "   '4. close': '695.1500',\n",
       "   '5. volume': '398676'},\n",
       "  '2025-02-28': {'1. open': '701.8000',\n",
       "   '2. high': '701.8000',\n",
       "   '3. low': '682.8500',\n",
       "   '4. close': '688.2500',\n",
       "   '5. volume': '953162'},\n",
       "  '2025-02-27': {'1. open': '716.9000',\n",
       "   '2. high': '716.9000',\n",
       "   '3. low': '701.0000',\n",
       "   '4. close': '703.9500',\n",
       "   '5. volume': '624622'},\n",
       "  '2025-02-25': {'1. open': '719.0000',\n",
       "   '2. high': '719.0000',\n",
       "   '3. low': '709.9500',\n",
       "   '4. close': '711.0000',\n",
       "   '5. volume': '875612'},\n",
       "  '2025-02-24': {'1. open': '712.6500',\n",
       "   '2. high': '719.8000',\n",
       "   '3. low': '710.9000',\n",
       "   '4. close': '716.4000',\n",
       "   '5. volume': '525944'},\n",
       "  '2025-02-21': {'1. open': '729.2000',\n",
       "   '2. high': '732.0000',\n",
       "   '3. low': '720.0000',\n",
       "   '4. close': '721.5500',\n",
       "   '5. volume': '460425'},\n",
       "  '2025-02-20': {'1. open': '727.8000',\n",
       "   '2. high': '731.8000',\n",
       "   '3. low': '723.0500',\n",
       "   '4. close': '729.6500',\n",
       "   '5. volume': '279931'},\n",
       "  '2025-02-19': {'1. open': '722.8000',\n",
       "   '2. high': '734.7500',\n",
       "   '3. low': '722.1000',\n",
       "   '4. close': '726.8000',\n",
       "   '5. volume': '174597'},\n",
       "  '2025-02-18': {'1. open': '727.9500',\n",
       "   '2. high': '727.9500',\n",
       "   '3. low': '717.4500',\n",
       "   '4. close': '725.7500',\n",
       "   '5. volume': '396321'},\n",
       "  '2025-02-17': {'1. open': '721.8500',\n",
       "   '2. high': '728.9500',\n",
       "   '3. low': '711.4000',\n",
       "   '4. close': '728.0500',\n",
       "   '5. volume': '751026'},\n",
       "  '2025-02-14': {'1. open': '729.4500',\n",
       "   '2. high': '732.7000',\n",
       "   '3. low': '716.1500',\n",
       "   '4. close': '722.0000',\n",
       "   '5. volume': '895669'},\n",
       "  '2025-02-13': {'1. open': '735.0000',\n",
       "   '2. high': '737.3000',\n",
       "   '3. low': '726.0500',\n",
       "   '4. close': '727.3000',\n",
       "   '5. volume': '605466'},\n",
       "  '2025-02-12': {'1. open': '732.9500',\n",
       "   '2. high': '738.3000',\n",
       "   '3. low': '717.2500',\n",
       "   '4. close': '733.2500',\n",
       "   '5. volume': '550605'},\n",
       "  '2025-02-11': {'1. open': '738.1500',\n",
       "   '2. high': '740.0000',\n",
       "   '3. low': '726.9000',\n",
       "   '4. close': '731.0000',\n",
       "   '5. volume': '826170'},\n",
       "  '2025-02-10': {'1. open': '740.5500',\n",
       "   '2. high': '744.0500',\n",
       "   '3. low': '733.6000',\n",
       "   '4. close': '736.8500',\n",
       "   '5. volume': '788061'},\n",
       "  '2025-02-07': {'1. open': '761.8000',\n",
       "   '2. high': '761.8000',\n",
       "   '3. low': '732.0500',\n",
       "   '4. close': '737.0500',\n",
       "   '5. volume': '1805880'},\n",
       "  '2025-02-06': {'1. open': '769.6500',\n",
       "   '2. high': '770.9500',\n",
       "   '3. low': '750.0000',\n",
       "   '4. close': '752.3500',\n",
       "   '5. volume': '1384322'},\n",
       "  '2025-02-05': {'1. open': '780.8000',\n",
       "   '2. high': '781.6000',\n",
       "   '3. low': '764.6500',\n",
       "   '4. close': '766.1000',\n",
       "   '5. volume': '654303'},\n",
       "  '2025-02-04': {'1. open': '766.3000',\n",
       "   '2. high': '780.8500',\n",
       "   '3. low': '766.0000',\n",
       "   '4. close': '779.2000',\n",
       "   '5. volume': '749753'},\n",
       "  '2025-02-03': {'1. open': '763.6500',\n",
       "   '2. high': '763.6500',\n",
       "   '3. low': '753.4500',\n",
       "   '4. close': '761.0000',\n",
       "   '5. volume': '427934'},\n",
       "  '2025-01-31': {'1. open': '765.0000',\n",
       "   '2. high': '777.7500',\n",
       "   '3. low': '759.3500',\n",
       "   '4. close': '773.1000',\n",
       "   '5. volume': '241965'},\n",
       "  '2025-01-30': {'1. open': '759.4000',\n",
       "   '2. high': '764.8500',\n",
       "   '3. low': '754.7000',\n",
       "   '4. close': '762.2000',\n",
       "   '5. volume': '618809'},\n",
       "  '2025-01-29': {'1. open': '752.5000',\n",
       "   '2. high': '760.2500',\n",
       "   '3. low': '749.8000',\n",
       "   '4. close': '758.7000',\n",
       "   '5. volume': '379821'},\n",
       "  '2025-01-28': {'1. open': '756.2000',\n",
       "   '2. high': '759.6000',\n",
       "   '3. low': '745.6500',\n",
       "   '4. close': '751.6500',\n",
       "   '5. volume': '794022'},\n",
       "  '2025-01-27': {'1. open': '740.0000',\n",
       "   '2. high': '755.3000',\n",
       "   '3. low': '736.0000',\n",
       "   '4. close': '749.2000',\n",
       "   '5. volume': '775011'},\n",
       "  '2025-01-24': {'1. open': '747.2000',\n",
       "   '2. high': '753.7500',\n",
       "   '3. low': '738.8500',\n",
       "   '4. close': '744.3500',\n",
       "   '5. volume': '458033'},\n",
       "  '2025-01-23': {'1. open': '751.9500',\n",
       "   '2. high': '755.8000',\n",
       "   '3. low': '743.3000',\n",
       "   '4. close': '745.9500',\n",
       "   '5. volume': '235130'},\n",
       "  '2025-01-22': {'1. open': '762.8500',\n",
       "   '2. high': '762.8500',\n",
       "   '3. low': '738.3000',\n",
       "   '4. close': '753.2500',\n",
       "   '5. volume': '237866'},\n",
       "  '2025-01-21': {'1. open': '784.9500',\n",
       "   '2. high': '785.3000',\n",
       "   '3. low': '756.2500',\n",
       "   '4. close': '759.0000',\n",
       "   '5. volume': '953600'},\n",
       "  '2025-01-20': {'1. open': '765.0500',\n",
       "   '2. high': '784.9500',\n",
       "   '3. low': '765.0500',\n",
       "   '4. close': '779.0500',\n",
       "   '5. volume': '559123'},\n",
       "  '2025-01-17': {'1. open': '766.9000',\n",
       "   '2. high': '767.8500',\n",
       "   '3. low': '759.4500',\n",
       "   '4. close': '764.1000',\n",
       "   '5. volume': '497950'},\n",
       "  '2025-01-16': {'1. open': '761.6500',\n",
       "   '2. high': '776.5500',\n",
       "   '3. low': '760.0500',\n",
       "   '4. close': '766.4000',\n",
       "   '5. volume': '511761'},\n",
       "  '2025-01-15': {'1. open': '753.7000',\n",
       "   '2. high': '758.8500',\n",
       "   '3. low': '750.3500',\n",
       "   '4. close': '754.0000',\n",
       "   '5. volume': '171791'},\n",
       "  '2025-01-14': {'1. open': '730.6000',\n",
       "   '2. high': '756.9000',\n",
       "   '3. low': '730.6000',\n",
       "   '4. close': '748.1000',\n",
       "   '5. volume': '687121'},\n",
       "  '2025-01-13': {'1. open': '742.9500',\n",
       "   '2. high': '743.8500',\n",
       "   '3. low': '722.5000',\n",
       "   '4. close': '729.6000',\n",
       "   '5. volume': '300275'},\n",
       "  '2025-01-10': {'1. open': '760.3500',\n",
       "   '2. high': '760.8000',\n",
       "   '3. low': '742.0000',\n",
       "   '4. close': '743.1500',\n",
       "   '5. volume': '454472'},\n",
       "  '2025-01-09': {'1. open': '771.9500',\n",
       "   '2. high': '771.9500',\n",
       "   '3. low': '726.9000',\n",
       "   '4. close': '760.3500',\n",
       "   '5. volume': '803943'},\n",
       "  '2025-01-08': {'1. open': '781.0000',\n",
       "   '2. high': '782.5000',\n",
       "   '3. low': '760.1000',\n",
       "   '4. close': '771.2000',\n",
       "   '5. volume': '1224097'},\n",
       "  '2025-01-07': {'1. open': '778.0500',\n",
       "   '2. high': '783.7500',\n",
       "   '3. low': '775.1000',\n",
       "   '4. close': '779.0000',\n",
       "   '5. volume': '563547'},\n",
       "  '2025-01-06': {'1. open': '798.0000',\n",
       "   '2. high': '798.0000',\n",
       "   '3. low': '773.3000',\n",
       "   '4. close': '776.7500',\n",
       "   '5. volume': '624836'},\n",
       "  '2025-01-03': {'1. open': '801.9000',\n",
       "   '2. high': '809.7000',\n",
       "   '3. low': '792.2500',\n",
       "   '4. close': '793.5000',\n",
       "   '5. volume': '387698'},\n",
       "  '2025-01-02': {'1. open': '795.0000',\n",
       "   '2. high': '802.4000',\n",
       "   '3. low': '786.3000',\n",
       "   '4. close': '801.0500',\n",
       "   '5. volume': '711599'},\n",
       "  '2025-01-01': {'1. open': '796.8500',\n",
       "   '2. high': '798.5000',\n",
       "   '3. low': '789.6000',\n",
       "   '4. close': '793.3500',\n",
       "   '5. volume': '356031'},\n",
       "  '2024-12-31': {'1. open': '788.7500',\n",
       "   '2. high': '798.9500',\n",
       "   '3. low': '787.0000',\n",
       "   '4. close': '795.0500',\n",
       "   '5. volume': '283620'},\n",
       "  '2024-12-30': {'1. open': '802.7000',\n",
       "   '2. high': '808.0000',\n",
       "   '3. low': '785.2000',\n",
       "   '4. close': '788.3000',\n",
       "   '5. volume': '686161'},\n",
       "  '2024-12-27': {'1. open': '817.2500',\n",
       "   '2. high': '818.7500',\n",
       "   '3. low': '797.2500',\n",
       "   '4. close': '799.5500',\n",
       "   '5. volume': '1061163'},\n",
       "  '2024-12-26': {'1. open': '813.0000',\n",
       "   '2. high': '822.9500',\n",
       "   '3. low': '808.0000',\n",
       "   '4. close': '811.6500',\n",
       "   '5. volume': '194920'},\n",
       "  '2024-12-24': {'1. open': '825.0000',\n",
       "   '2. high': '825.5500',\n",
       "   '3. low': '809.2000',\n",
       "   '4. close': '811.8500',\n",
       "   '5. volume': '431577'},\n",
       "  '2024-12-23': {'1. open': '818.3500',\n",
       "   '2. high': '823.9000',\n",
       "   '3. low': '812.4000',\n",
       "   '4. close': '820.9500',\n",
       "   '5. volume': '281649'},\n",
       "  '2024-12-20': {'1. open': '833.8000',\n",
       "   '2. high': '836.4000',\n",
       "   '3. low': '810.0000',\n",
       "   '4. close': '812.5000',\n",
       "   '5. volume': '467910'},\n",
       "  '2024-12-19': {'1. open': '822.0500',\n",
       "   '2. high': '837.9000',\n",
       "   '3. low': '820.1000',\n",
       "   '4. close': '832.8000',\n",
       "   '5. volume': '309033'},\n",
       "  '2024-12-18': {'1. open': '850.2000',\n",
       "   '2. high': '850.8000',\n",
       "   '3. low': '836.7000',\n",
       "   '4. close': '839.0500',\n",
       "   '5. volume': '172425'},\n",
       "  '2024-12-17': {'1. open': '859.7500',\n",
       "   '2. high': '862.9500',\n",
       "   '3. low': '847.1500',\n",
       "   '4. close': '850.2000',\n",
       "   '5. volume': '143409'},\n",
       "  '2024-12-16': {'1. open': '859.0000',\n",
       "   '2. high': '866.2000',\n",
       "   '3. low': '857.8000',\n",
       "   '4. close': '860.7000',\n",
       "   '5. volume': '252691'},\n",
       "  '2024-12-13': {'1. open': '853.7000',\n",
       "   '2. high': '863.0000',\n",
       "   '3. low': '835.0000',\n",
       "   '4. close': '861.7000',\n",
       "   '5. volume': '455324'},\n",
       "  '2024-12-12': {'1. open': '862.5000',\n",
       "   '2. high': '864.2000',\n",
       "   '3. low': '851.2500',\n",
       "   '4. close': '853.7500',\n",
       "   '5. volume': '179011'},\n",
       "  '2024-12-11': {'1. open': '865.7500',\n",
       "   '2. high': '869.7500',\n",
       "   '3. low': '860.8000',\n",
       "   '4. close': '861.5500',\n",
       "   '5. volume': '342069'},\n",
       "  '2024-12-10': {'1. open': '862.0000',\n",
       "   '2. high': '868.8500',\n",
       "   '3. low': '858.5000',\n",
       "   '4. close': '867.6000',\n",
       "   '5. volume': '197287'},\n",
       "  '2024-12-09': {'1. open': '862.9500',\n",
       "   '2. high': '866.8000',\n",
       "   '3. low': '856.7500',\n",
       "   '4. close': '857.8500',\n",
       "   '5. volume': '646144'},\n",
       "  '2024-12-06': {'1. open': '866.9500',\n",
       "   '2. high': '875.5000',\n",
       "   '3. low': '856.8500',\n",
       "   '4. close': '864.0000',\n",
       "   '5. volume': '431320'},\n",
       "  '2024-12-05': {'1. open': '861.6500',\n",
       "   '2. high': '871.0000',\n",
       "   '3. low': '855.6500',\n",
       "   '4. close': '864.8500',\n",
       "   '5. volume': '379508'},\n",
       "  '2024-12-04': {'1. open': '854.4000',\n",
       "   '2. high': '863.8000',\n",
       "   '3. low': '850.2500',\n",
       "   '4. close': '859.4500',\n",
       "   '5. volume': '679548'},\n",
       "  '2024-12-03': {'1. open': '836.4500',\n",
       "   '2. high': '856.6000',\n",
       "   '3. low': '836.4500',\n",
       "   '4. close': '853.9500',\n",
       "   '5. volume': '370485'},\n",
       "  '2024-12-02': {'1. open': '836.2000',\n",
       "   '2. high': '842.0000',\n",
       "   '3. low': '832.8000',\n",
       "   '4. close': '836.2000',\n",
       "   '5. volume': '526054'},\n",
       "  '2024-11-29': {'1. open': '842.0000',\n",
       "   '2. high': '843.8500',\n",
       "   '3. low': '831.5000',\n",
       "   '4. close': '839.0000',\n",
       "   '5. volume': '757635'},\n",
       "  '2024-11-28': {'1. open': '834.9500',\n",
       "   '2. high': '845.7000',\n",
       "   '3. low': '830.3500',\n",
       "   '4. close': '838.7500',\n",
       "   '5. volume': '811586'},\n",
       "  '2024-11-27': {'1. open': '839.3000',\n",
       "   '2. high': '842.1500',\n",
       "   '3. low': '832.0000',\n",
       "   '4. close': '834.2000',\n",
       "   '5. volume': '502957'},\n",
       "  '2024-11-26': {'1. open': '844.7500',\n",
       "   '2. high': '846.7000',\n",
       "   '3. low': '835.2000',\n",
       "   '4. close': '839.3500',\n",
       "   '5. volume': '448647'},\n",
       "  '2024-11-25': {'1. open': '826.2500',\n",
       "   '2. high': '849.3000',\n",
       "   '3. low': '825.9500',\n",
       "   '4. close': '844.7500',\n",
       "   '5. volume': '1612713'},\n",
       "  '2024-11-22': {'1. open': '785.6500',\n",
       "   '2. high': '819.7500',\n",
       "   '3. low': '784.3000',\n",
       "   '4. close': '816.0500',\n",
       "   '5. volume': '1534393'},\n",
       "  '2024-11-21': {'1. open': '800.0000',\n",
       "   '2. high': '800.0000',\n",
       "   '3. low': '761.6500',\n",
       "   '4. close': '780.8500',\n",
       "   '5. volume': '804079'}}}"
      ]
     },
     "execution_count": 10,
     "metadata": {},
     "output_type": "execute_result"
    }
   ],
   "source": [
    "#FROM ABOVE SYMBOLS I WANT TO GET DETAILS FOR SBIN.BSE\n",
    "\n",
    "import requests\n",
    "\n",
    "url = \"https://alpha-vantage.p.rapidapi.com/query\"\n",
    "\n",
    "querystring = {\"function\":\"TIME_SERIES_DAILY\",\"symbol\":\"SBIN.BSE\",\"outputsize\":\"compact\",\"datatype\":\"json\"}\n",
    "\n",
    "headers = {\n",
    "\t\"x-rapidapi-key\": api_key,\n",
    "\t\"x-rapidapi-host\": \"alpha-vantage.p.rapidapi.com\"\n",
    "}\n",
    "\n",
    "response = requests.get(url, headers=headers, params=querystring)\n",
    "\n",
    "data2 = response.json()\n",
    "\n",
    "data2"
   ]
  },
  {
   "cell_type": "code",
   "execution_count": 11,
   "id": "c5149da4",
   "metadata": {},
   "outputs": [
    {
     "data": {
      "text/plain": [
       "dict_keys(['Meta Data', 'Time Series (Daily)'])"
      ]
     },
     "execution_count": 11,
     "metadata": {},
     "output_type": "execute_result"
    }
   ],
   "source": [
    "data2.keys()"
   ]
  },
  {
   "cell_type": "code",
   "execution_count": 12,
   "id": "7aa604be",
   "metadata": {},
   "outputs": [],
   "source": [
    "prices = data2[\"Time Series (Daily)\"]"
   ]
  },
  {
   "cell_type": "code",
   "execution_count": 13,
   "id": "b0566ba8",
   "metadata": {},
   "outputs": [
    {
     "data": {
      "text/html": [
       "<div>\n",
       "<style scoped>\n",
       "    .dataframe tbody tr th:only-of-type {\n",
       "        vertical-align: middle;\n",
       "    }\n",
       "\n",
       "    .dataframe tbody tr th {\n",
       "        vertical-align: top;\n",
       "    }\n",
       "\n",
       "    .dataframe thead th {\n",
       "        text-align: right;\n",
       "    }\n",
       "</style>\n",
       "<table border=\"1\" class=\"dataframe\">\n",
       "  <thead>\n",
       "    <tr style=\"text-align: right;\">\n",
       "      <th></th>\n",
       "      <th>1. open</th>\n",
       "      <th>2. high</th>\n",
       "      <th>3. low</th>\n",
       "      <th>4. close</th>\n",
       "      <th>5. volume</th>\n",
       "    </tr>\n",
       "  </thead>\n",
       "  <tbody>\n",
       "    <tr>\n",
       "      <th>2025-04-17</th>\n",
       "      <td>771.1000</td>\n",
       "      <td>801.0000</td>\n",
       "      <td>767.2500</td>\n",
       "      <td>797.1000</td>\n",
       "      <td>738676</td>\n",
       "    </tr>\n",
       "    <tr>\n",
       "      <th>2025-04-16</th>\n",
       "      <td>764.0000</td>\n",
       "      <td>774.5500</td>\n",
       "      <td>760.4000</td>\n",
       "      <td>771.7500</td>\n",
       "      <td>477621</td>\n",
       "    </tr>\n",
       "    <tr>\n",
       "      <th>2025-04-15</th>\n",
       "      <td>768.0500</td>\n",
       "      <td>770.6000</td>\n",
       "      <td>757.6500</td>\n",
       "      <td>763.3000</td>\n",
       "      <td>763643</td>\n",
       "    </tr>\n",
       "    <tr>\n",
       "      <th>2025-04-11</th>\n",
       "      <td>759.9500</td>\n",
       "      <td>759.9500</td>\n",
       "      <td>746.1500</td>\n",
       "      <td>754.0500</td>\n",
       "      <td>593599</td>\n",
       "    </tr>\n",
       "    <tr>\n",
       "      <th>2025-04-09</th>\n",
       "      <td>768.8000</td>\n",
       "      <td>769.0000</td>\n",
       "      <td>740.7500</td>\n",
       "      <td>742.0500</td>\n",
       "      <td>467660</td>\n",
       "    </tr>\n",
       "    <tr>\n",
       "      <th>...</th>\n",
       "      <td>...</td>\n",
       "      <td>...</td>\n",
       "      <td>...</td>\n",
       "      <td>...</td>\n",
       "      <td>...</td>\n",
       "    </tr>\n",
       "    <tr>\n",
       "      <th>2024-11-27</th>\n",
       "      <td>839.3000</td>\n",
       "      <td>842.1500</td>\n",
       "      <td>832.0000</td>\n",
       "      <td>834.2000</td>\n",
       "      <td>502957</td>\n",
       "    </tr>\n",
       "    <tr>\n",
       "      <th>2024-11-26</th>\n",
       "      <td>844.7500</td>\n",
       "      <td>846.7000</td>\n",
       "      <td>835.2000</td>\n",
       "      <td>839.3500</td>\n",
       "      <td>448647</td>\n",
       "    </tr>\n",
       "    <tr>\n",
       "      <th>2024-11-25</th>\n",
       "      <td>826.2500</td>\n",
       "      <td>849.3000</td>\n",
       "      <td>825.9500</td>\n",
       "      <td>844.7500</td>\n",
       "      <td>1612713</td>\n",
       "    </tr>\n",
       "    <tr>\n",
       "      <th>2024-11-22</th>\n",
       "      <td>785.6500</td>\n",
       "      <td>819.7500</td>\n",
       "      <td>784.3000</td>\n",
       "      <td>816.0500</td>\n",
       "      <td>1534393</td>\n",
       "    </tr>\n",
       "    <tr>\n",
       "      <th>2024-11-21</th>\n",
       "      <td>800.0000</td>\n",
       "      <td>800.0000</td>\n",
       "      <td>761.6500</td>\n",
       "      <td>780.8500</td>\n",
       "      <td>804079</td>\n",
       "    </tr>\n",
       "  </tbody>\n",
       "</table>\n",
       "<p>100 rows × 5 columns</p>\n",
       "</div>"
      ],
      "text/plain": [
       "             1. open   2. high    3. low  4. close 5. volume\n",
       "2025-04-17  771.1000  801.0000  767.2500  797.1000    738676\n",
       "2025-04-16  764.0000  774.5500  760.4000  771.7500    477621\n",
       "2025-04-15  768.0500  770.6000  757.6500  763.3000    763643\n",
       "2025-04-11  759.9500  759.9500  746.1500  754.0500    593599\n",
       "2025-04-09  768.8000  769.0000  740.7500  742.0500    467660\n",
       "...              ...       ...       ...       ...       ...\n",
       "2024-11-27  839.3000  842.1500  832.0000  834.2000    502957\n",
       "2024-11-26  844.7500  846.7000  835.2000  839.3500    448647\n",
       "2024-11-25  826.2500  849.3000  825.9500  844.7500   1612713\n",
       "2024-11-22  785.6500  819.7500  784.3000  816.0500   1534393\n",
       "2024-11-21  800.0000  800.0000  761.6500  780.8500    804079\n",
       "\n",
       "[100 rows x 5 columns]"
      ]
     },
     "execution_count": 13,
     "metadata": {},
     "output_type": "execute_result"
    }
   ],
   "source": [
    "import pandas as pd\n",
    "df = pd.DataFrame(prices).T\n",
    "df"
   ]
  },
  {
   "cell_type": "code",
   "execution_count": 14,
   "id": "d469da9c",
   "metadata": {},
   "outputs": [
    {
     "data": {
      "text/plain": [
       "1. open      object\n",
       "2. high      object\n",
       "3. low       object\n",
       "4. close     object\n",
       "5. volume    object\n",
       "dtype: object"
      ]
     },
     "execution_count": 14,
     "metadata": {},
     "output_type": "execute_result"
    }
   ],
   "source": [
    "df.dtypes"
   ]
  },
  {
   "cell_type": "code",
   "execution_count": 15,
   "id": "35059c2e",
   "metadata": {},
   "outputs": [
    {
     "data": {
      "text/plain": [
       "1. open      float64\n",
       "2. high      float64\n",
       "3. low       float64\n",
       "4. close     float64\n",
       "5. volume    float64\n",
       "dtype: object"
      ]
     },
     "execution_count": 15,
     "metadata": {},
     "output_type": "execute_result"
    }
   ],
   "source": [
    "# CONVERT ALL DATA TO FLOAT\n",
    "df = df.astype(float)\n",
    "df.dtypes"
   ]
  },
  {
   "cell_type": "code",
   "execution_count": 16,
   "id": "d9dadd80",
   "metadata": {},
   "outputs": [
    {
     "data": {
      "text/plain": [
       "Index(['2025-04-17', '2025-04-16', '2025-04-15', '2025-04-11', '2025-04-09',\n",
       "       '2025-04-08', '2025-04-07', '2025-04-04', '2025-04-03', '2025-04-02',\n",
       "       '2025-04-01', '2025-03-28', '2025-03-27', '2025-03-26', '2025-03-25',\n",
       "       '2025-03-24', '2025-03-21', '2025-03-20', '2025-03-19', '2025-03-18',\n",
       "       '2025-03-17', '2025-03-13', '2025-03-12', '2025-03-11', '2025-03-10',\n",
       "       '2025-03-07', '2025-03-06', '2025-03-05', '2025-03-04', '2025-03-03',\n",
       "       '2025-02-28', '2025-02-27', '2025-02-25', '2025-02-24', '2025-02-21',\n",
       "       '2025-02-20', '2025-02-19', '2025-02-18', '2025-02-17', '2025-02-14',\n",
       "       '2025-02-13', '2025-02-12', '2025-02-11', '2025-02-10', '2025-02-07',\n",
       "       '2025-02-06', '2025-02-05', '2025-02-04', '2025-02-03', '2025-01-31',\n",
       "       '2025-01-30', '2025-01-29', '2025-01-28', '2025-01-27', '2025-01-24',\n",
       "       '2025-01-23', '2025-01-22', '2025-01-21', '2025-01-20', '2025-01-17',\n",
       "       '2025-01-16', '2025-01-15', '2025-01-14', '2025-01-13', '2025-01-10',\n",
       "       '2025-01-09', '2025-01-08', '2025-01-07', '2025-01-06', '2025-01-03',\n",
       "       '2025-01-02', '2025-01-01', '2024-12-31', '2024-12-30', '2024-12-27',\n",
       "       '2024-12-26', '2024-12-24', '2024-12-23', '2024-12-20', '2024-12-19',\n",
       "       '2024-12-18', '2024-12-17', '2024-12-16', '2024-12-13', '2024-12-12',\n",
       "       '2024-12-11', '2024-12-10', '2024-12-09', '2024-12-06', '2024-12-05',\n",
       "       '2024-12-04', '2024-12-03', '2024-12-02', '2024-11-29', '2024-11-28',\n",
       "       '2024-11-27', '2024-11-26', '2024-11-25', '2024-11-22', '2024-11-21'],\n",
       "      dtype='object')"
      ]
     },
     "execution_count": 16,
     "metadata": {},
     "output_type": "execute_result"
    }
   ],
   "source": [
    "# INDEX NOT IN DATA FORMAT\n",
    "df.index"
   ]
  },
  {
   "cell_type": "code",
   "execution_count": 17,
   "id": "987a5195",
   "metadata": {},
   "outputs": [
    {
     "data": {
      "text/plain": [
       "DatetimeIndex(['2025-04-17', '2025-04-16', '2025-04-15', '2025-04-11',\n",
       "               '2025-04-09', '2025-04-08', '2025-04-07', '2025-04-04',\n",
       "               '2025-04-03', '2025-04-02', '2025-04-01', '2025-03-28',\n",
       "               '2025-03-27', '2025-03-26', '2025-03-25', '2025-03-24',\n",
       "               '2025-03-21', '2025-03-20', '2025-03-19', '2025-03-18',\n",
       "               '2025-03-17', '2025-03-13', '2025-03-12', '2025-03-11',\n",
       "               '2025-03-10', '2025-03-07', '2025-03-06', '2025-03-05',\n",
       "               '2025-03-04', '2025-03-03', '2025-02-28', '2025-02-27',\n",
       "               '2025-02-25', '2025-02-24', '2025-02-21', '2025-02-20',\n",
       "               '2025-02-19', '2025-02-18', '2025-02-17', '2025-02-14',\n",
       "               '2025-02-13', '2025-02-12', '2025-02-11', '2025-02-10',\n",
       "               '2025-02-07', '2025-02-06', '2025-02-05', '2025-02-04',\n",
       "               '2025-02-03', '2025-01-31', '2025-01-30', '2025-01-29',\n",
       "               '2025-01-28', '2025-01-27', '2025-01-24', '2025-01-23',\n",
       "               '2025-01-22', '2025-01-21', '2025-01-20', '2025-01-17',\n",
       "               '2025-01-16', '2025-01-15', '2025-01-14', '2025-01-13',\n",
       "               '2025-01-10', '2025-01-09', '2025-01-08', '2025-01-07',\n",
       "               '2025-01-06', '2025-01-03', '2025-01-02', '2025-01-01',\n",
       "               '2024-12-31', '2024-12-30', '2024-12-27', '2024-12-26',\n",
       "               '2024-12-24', '2024-12-23', '2024-12-20', '2024-12-19',\n",
       "               '2024-12-18', '2024-12-17', '2024-12-16', '2024-12-13',\n",
       "               '2024-12-12', '2024-12-11', '2024-12-10', '2024-12-09',\n",
       "               '2024-12-06', '2024-12-05', '2024-12-04', '2024-12-03',\n",
       "               '2024-12-02', '2024-11-29', '2024-11-28', '2024-11-27',\n",
       "               '2024-11-26', '2024-11-25', '2024-11-22', '2024-11-21'],\n",
       "              dtype='datetime64[ns]', freq=None)"
      ]
     },
     "execution_count": 17,
     "metadata": {},
     "output_type": "execute_result"
    }
   ],
   "source": [
    "df.index = pd.to_datetime(df.index)\n",
    "df.index"
   ]
  },
  {
   "cell_type": "code",
   "execution_count": 18,
   "id": "00464e49",
   "metadata": {},
   "outputs": [],
   "source": [
    "df.index.name = \"Date\""
   ]
  },
  {
   "cell_type": "code",
   "execution_count": 19,
   "id": "0daf96ae",
   "metadata": {},
   "outputs": [
    {
     "data": {
      "text/html": [
       "<div>\n",
       "<style scoped>\n",
       "    .dataframe tbody tr th:only-of-type {\n",
       "        vertical-align: middle;\n",
       "    }\n",
       "\n",
       "    .dataframe tbody tr th {\n",
       "        vertical-align: top;\n",
       "    }\n",
       "\n",
       "    .dataframe thead th {\n",
       "        text-align: right;\n",
       "    }\n",
       "</style>\n",
       "<table border=\"1\" class=\"dataframe\">\n",
       "  <thead>\n",
       "    <tr style=\"text-align: right;\">\n",
       "      <th></th>\n",
       "      <th>1. open</th>\n",
       "      <th>2. high</th>\n",
       "      <th>3. low</th>\n",
       "      <th>4. close</th>\n",
       "      <th>5. volume</th>\n",
       "    </tr>\n",
       "    <tr>\n",
       "      <th>Date</th>\n",
       "      <th></th>\n",
       "      <th></th>\n",
       "      <th></th>\n",
       "      <th></th>\n",
       "      <th></th>\n",
       "    </tr>\n",
       "  </thead>\n",
       "  <tbody>\n",
       "    <tr>\n",
       "      <th>2025-04-17</th>\n",
       "      <td>771.10</td>\n",
       "      <td>801.00</td>\n",
       "      <td>767.25</td>\n",
       "      <td>797.10</td>\n",
       "      <td>738676.0</td>\n",
       "    </tr>\n",
       "    <tr>\n",
       "      <th>2025-04-16</th>\n",
       "      <td>764.00</td>\n",
       "      <td>774.55</td>\n",
       "      <td>760.40</td>\n",
       "      <td>771.75</td>\n",
       "      <td>477621.0</td>\n",
       "    </tr>\n",
       "    <tr>\n",
       "      <th>2025-04-15</th>\n",
       "      <td>768.05</td>\n",
       "      <td>770.60</td>\n",
       "      <td>757.65</td>\n",
       "      <td>763.30</td>\n",
       "      <td>763643.0</td>\n",
       "    </tr>\n",
       "    <tr>\n",
       "      <th>2025-04-11</th>\n",
       "      <td>759.95</td>\n",
       "      <td>759.95</td>\n",
       "      <td>746.15</td>\n",
       "      <td>754.05</td>\n",
       "      <td>593599.0</td>\n",
       "    </tr>\n",
       "    <tr>\n",
       "      <th>2025-04-09</th>\n",
       "      <td>768.80</td>\n",
       "      <td>769.00</td>\n",
       "      <td>740.75</td>\n",
       "      <td>742.05</td>\n",
       "      <td>467660.0</td>\n",
       "    </tr>\n",
       "    <tr>\n",
       "      <th>...</th>\n",
       "      <td>...</td>\n",
       "      <td>...</td>\n",
       "      <td>...</td>\n",
       "      <td>...</td>\n",
       "      <td>...</td>\n",
       "    </tr>\n",
       "    <tr>\n",
       "      <th>2024-11-27</th>\n",
       "      <td>839.30</td>\n",
       "      <td>842.15</td>\n",
       "      <td>832.00</td>\n",
       "      <td>834.20</td>\n",
       "      <td>502957.0</td>\n",
       "    </tr>\n",
       "    <tr>\n",
       "      <th>2024-11-26</th>\n",
       "      <td>844.75</td>\n",
       "      <td>846.70</td>\n",
       "      <td>835.20</td>\n",
       "      <td>839.35</td>\n",
       "      <td>448647.0</td>\n",
       "    </tr>\n",
       "    <tr>\n",
       "      <th>2024-11-25</th>\n",
       "      <td>826.25</td>\n",
       "      <td>849.30</td>\n",
       "      <td>825.95</td>\n",
       "      <td>844.75</td>\n",
       "      <td>1612713.0</td>\n",
       "    </tr>\n",
       "    <tr>\n",
       "      <th>2024-11-22</th>\n",
       "      <td>785.65</td>\n",
       "      <td>819.75</td>\n",
       "      <td>784.30</td>\n",
       "      <td>816.05</td>\n",
       "      <td>1534393.0</td>\n",
       "    </tr>\n",
       "    <tr>\n",
       "      <th>2024-11-21</th>\n",
       "      <td>800.00</td>\n",
       "      <td>800.00</td>\n",
       "      <td>761.65</td>\n",
       "      <td>780.85</td>\n",
       "      <td>804079.0</td>\n",
       "    </tr>\n",
       "  </tbody>\n",
       "</table>\n",
       "<p>100 rows × 5 columns</p>\n",
       "</div>"
      ],
      "text/plain": [
       "            1. open  2. high  3. low  4. close  5. volume\n",
       "Date                                                     \n",
       "2025-04-17   771.10   801.00  767.25    797.10   738676.0\n",
       "2025-04-16   764.00   774.55  760.40    771.75   477621.0\n",
       "2025-04-15   768.05   770.60  757.65    763.30   763643.0\n",
       "2025-04-11   759.95   759.95  746.15    754.05   593599.0\n",
       "2025-04-09   768.80   769.00  740.75    742.05   467660.0\n",
       "...             ...      ...     ...       ...        ...\n",
       "2024-11-27   839.30   842.15  832.00    834.20   502957.0\n",
       "2024-11-26   844.75   846.70  835.20    839.35   448647.0\n",
       "2024-11-25   826.25   849.30  825.95    844.75  1612713.0\n",
       "2024-11-22   785.65   819.75  784.30    816.05  1534393.0\n",
       "2024-11-21   800.00   800.00  761.65    780.85   804079.0\n",
       "\n",
       "[100 rows x 5 columns]"
      ]
     },
     "execution_count": 19,
     "metadata": {},
     "output_type": "execute_result"
    }
   ],
   "source": [
    "df"
   ]
  },
  {
   "cell_type": "code",
   "execution_count": 20,
   "id": "dd0da609",
   "metadata": {},
   "outputs": [],
   "source": [
    "df.to_csv(\"SBIN.csv\")"
   ]
  },
  {
   "cell_type": "code",
   "execution_count": 21,
   "id": "9c74186c",
   "metadata": {},
   "outputs": [
    {
     "name": "stdout",
     "output_type": "stream",
     "text": [
      "Requirement already satisfied: plotly in d:\\adv python\\repository\\venv\\lib\\site-packages (6.0.1)\n",
      "Requirement already satisfied: nbformat in d:\\adv python\\repository\\venv\\lib\\site-packages (5.10.4)\n",
      "Requirement already satisfied: narwhals>=1.15.1 in d:\\adv python\\repository\\venv\\lib\\site-packages (from plotly) (1.32.0)\n",
      "Requirement already satisfied: packaging in d:\\adv python\\repository\\venv\\lib\\site-packages (from plotly) (24.2)\n",
      "Requirement already satisfied: fastjsonschema>=2.15 in d:\\adv python\\repository\\venv\\lib\\site-packages (from nbformat) (2.21.1)\n",
      "Requirement already satisfied: jsonschema>=2.6 in d:\\adv python\\repository\\venv\\lib\\site-packages (from nbformat) (4.23.0)\n",
      "Requirement already satisfied: jupyter-core!=5.0.*,>=4.12 in d:\\adv python\\repository\\venv\\lib\\site-packages (from nbformat) (5.7.2)\n",
      "Requirement already satisfied: traitlets>=5.1 in d:\\adv python\\repository\\venv\\lib\\site-packages (from nbformat) (5.14.3)\n",
      "Requirement already satisfied: attrs>=22.2.0 in d:\\adv python\\repository\\venv\\lib\\site-packages (from jsonschema>=2.6->nbformat) (25.3.0)\n",
      "Requirement already satisfied: jsonschema-specifications>=2023.03.6 in d:\\adv python\\repository\\venv\\lib\\site-packages (from jsonschema>=2.6->nbformat) (2024.10.1)\n",
      "Requirement already satisfied: referencing>=0.28.4 in d:\\adv python\\repository\\venv\\lib\\site-packages (from jsonschema>=2.6->nbformat) (0.36.2)\n",
      "Requirement already satisfied: rpds-py>=0.7.1 in d:\\adv python\\repository\\venv\\lib\\site-packages (from jsonschema>=2.6->nbformat) (0.24.0)\n",
      "Requirement already satisfied: platformdirs>=2.5 in d:\\adv python\\repository\\venv\\lib\\site-packages (from jupyter-core!=5.0.*,>=4.12->nbformat) (4.3.7)\n",
      "Requirement already satisfied: pywin32>=300 in d:\\adv python\\repository\\venv\\lib\\site-packages (from jupyter-core!=5.0.*,>=4.12->nbformat) (310)\n",
      "Note: you may need to restart the kernel to use updated packages.\n"
     ]
    }
   ],
   "source": [
    "# VISUALIZE CANDLESTICK CHART\n",
    "%pip install plotly nbformat"
   ]
  },
  {
   "attachments": {
    "image.png": {
     "image/png": "[encoded data removed]"
    }
   },
   "cell_type": "markdown",
   "id": "f0b51b16",
   "metadata": {},
   "source": [
    "![image.png](attachment:image.png)"
   ]
  },
  {
   "cell_type": "code",
   "execution_count": 22,
   "id": "2fa4b091",
   "metadata": {},
   "outputs": [],
   "source": [
    "import plotly.graph_objects as go"
   ]
  },
  {
   "cell_type": "code",
   "execution_count": 27,
   "id": "6a8284aa",
   "metadata": {},
   "outputs": [
    {
     "data": {
      "application/vnd.plotly.v1+json": {
       "config": {
        "plotlyServerURL": "https://plot.ly"
       },
       "data": [
        {
         "close": {
          "bdata": "zczMzMzoiEAAAAAAAB6IQGZmZmZm2odAZmZmZmaQh0BmZmZmZjCHQDMzMzMzA4hAAAAAAABWh0BmZmZmZv6HQJqZmZmZWYhAzczMzMw+iEAAAAAAAByIQM3MzMzMHIhAMzMzMzMjiEDNzMzMzNqHQGZmZmZmKIhAMzMzMzNriEAAAAAAAIiHQJqZmZmZaYdAZmZmZmZIh0BmZmZmZgiHQJqZmZmZlYZAAAAAAAC+hkAzMzMzM5eGQJqZmZmZz4ZAzczMzMzChkAAAAAAAOaGQJqZmZmZ34ZAAAAAAADShkAzMzMzM2GGQDMzMzMzuYVAAAAAAACChUCamZmZmf+FQAAAAAAAOIZAMzMzMzNjhkBmZmZmZoyGQDMzMzMzzYZAZmZmZma2hkAAAAAAAK6GQGZmZmZmwIZAAAAAAACQhkBmZmZmZrqGQAAAAAAA6oZAAAAAAADYhkDNzMzMzAaHQGZmZmZmCIdAzczMzMyCh0DNzMzMzPCHQJqZmZmZWYhAAAAAAADIh0DNzMzMzCiIQJqZmZmZ0YdAmpmZmZm1h0AzMzMzM32HQJqZmZmZaYdAzczMzMxCh0CamZmZmU+HQAAAAAAAiodAAAAAAAC4h0BmZmZmZliIQM3MzMzM4IdAMzMzMzPzh0AAAAAAAJCHQM3MzMzMYIdAzczMzMzMhkAzMzMzMzmHQM3MzMzMwodAmpmZmZkZiEAAAAAAAFiIQAAAAAAARohAAAAAAADMiEBmZmZmZgiJQM3MzMzMyohAZmZmZmbYiEBmZmZmZqKIQGZmZmZm/IhAMzMzMzNdiUDNzMzMzF6JQJqZmZmZp4lAAAAAAABkiUBmZmZmZgaKQGZmZmZmOIpAmpmZmZmRikCamZmZmeWKQJqZmZmZ7YpAAAAAAACuikBmZmZmZuyKQM3MzMzMHItAzczMzMzOikAAAAAAAACLQM3MzMzMBotAmpmZmZnbikCamZmZma+KQJqZmZmZIYpAAAAAAAA4ikAAAAAAADaKQJqZmZmZEYpAzczMzMw6ikAAAAAAAGaKQGZmZmZmgIlAzczMzMxmiEA=",
          "dtype": "f8"
         },
         "high": {
          "bdata": "AAAAAAAIiUBmZmZmZjSIQM3MzMzMFIhAmpmZmZm/h0AAAAAAAAiIQM3MzMzMMIhAmpmZmZmHh0AAAAAAAHKIQM3MzMzMhohAZmZmZmZGiEAAAAAAAHSIQJqZmZmZU4hAAAAAAAA4iECamZmZmT+IQAAAAAAAkIhAMzMzMzN5iEAzMzMzM5uHQGZmZmZmhodAAAAAAABoh0AAAAAAABSHQJqZmZmZ14ZAmpmZmZnbhkAAAAAAAASHQDMzMzMz74ZAmpmZmZkTh0AzMzMzM/eGQJqZmZmZD4dAAAAAAADYhkAzMzMzM3GGQM3MzMzMxoVAZmZmZmbuhUAzMzMzM2eGQAAAAAAAeIZAZmZmZmZ+hkAAAAAAAOCGQGZmZmZm3oZAAAAAAAD2hkCamZmZmb+GQJqZmZmZx4ZAmpmZmZnlhkBmZmZmZgqHQGZmZmZmEodAAAAAAAAgh0BmZmZmZkCHQGZmZmZmzodAmpmZmZkXiEDNzMzMzGyIQM3MzMzMZohAMzMzMzPdh0AAAAAAAE6IQM3MzMzM5odAAAAAAADCh0DNzMzMzLyHQGZmZmZmmodAAAAAAACOh0BmZmZmZp6HQM3MzMzM1odAZmZmZmaKiECamZmZmYeIQM3MzMzM/odAZmZmZmZEiEDNzMzMzLaHQDMzMzMzp4dAzczMzMw+h0BmZmZmZsaHQJqZmZmZH4hAAAAAAAB0iEAAAAAAAH6IQAAAAAAA8IhAmpmZmZlNiUAzMzMzMxOJQAAAAAAA9IhAmpmZmZn3iEAAAAAAAECJQAAAAAAAlolAmpmZmZm3iUBmZmZmZsyJQDMzMzMzv4lAMzMzMzMjikAzMzMzMy+KQGZmZmZmlopAmpmZmZn3ikCamZmZmRGLQAAAAAAA+IpAmpmZmZkBi0AAAAAAAC6LQM3MzMzMJotAZmZmZmYWi0AAAAAAAFyLQAAAAAAAOItAZmZmZmb+ikDNzMzMzMSKQAAAAAAAUIpAzczMzMxeikCamZmZmW2KQDMzMzMzUYpAmpmZmZl1ikBmZmZmZoqKQAAAAAAAnolAAAAAAAAAiUA=",
          "dtype": "f8"
         },
         "low": {
          "bdata": "AAAAAAD6h0AzMzMzM8OHQDMzMzMzrYdAMzMzMzNRh0AAAAAAACaHQAAAAAAAqIdAmpmZmZnXhkAAAAAAAOiHQAAAAAAAEIhAZmZmZmbih0BmZmZmZtiHQAAAAAAAAIhAAAAAAADGh0BmZmZmZs6HQDMzMzMzDYhAZmZmZmaYh0CamZmZmVmHQJqZmZmZQYdAAAAAAAAah0AAAAAAAJiGQM3MzMzMkIZAzczMzMyihkCamZmZmXmGQAAAAAAAlIZAZmZmZma4hkCamZmZmb+GQM3MzMzMuIZAZmZmZmZuhkAzMzMzM6GFQDMzMzMzPYVAzczMzMxWhUAAAAAAAOiFQJqZmZmZL4ZAMzMzMzM3hkAAAAAAAICGQGZmZmZmmIZAzczMzMyQhkCamZmZmWuGQDMzMzMzO4ZAMzMzMzNhhkBmZmZmZrCGQAAAAAAAaoZAMzMzMzO3hkDNzMzMzOyGQGZmZmZm4IZAAAAAAABwh0AzMzMzM+WHQAAAAAAA8IdAmpmZmZmLh0DNzMzMzLqHQJqZmZmZlYdAZmZmZmZuh0AzMzMzM02HQAAAAAAAAIdAzczMzMwWh0BmZmZmZjqHQGZmZmZmEodAAAAAAACih0BmZmZmZuiHQJqZmZmZu4dAZmZmZmbAh0DNzMzMzHKHQM3MzMzM1IZAAAAAAACUhkAAAAAAADCHQDMzMzMzt4ZAzczMzMzAh0DNzMzMzDiIQGZmZmZmKohAAAAAAADCiEBmZmZmZpKIQM3MzMzMrIhAAAAAAACYiECamZmZmYmIQAAAAAAA6ohAAAAAAABAiUCamZmZmUmJQDMzMzMzY4lAAAAAAABQiUDNzMzMzKCJQJqZmZmZJYpAMzMzMzN5ikBmZmZmZs6KQAAAAAAAGIpAAAAAAACaikBmZmZmZuaKQAAAAAAA1IpAAAAAAADGikDNzMzMzMaKQDMzMzMzvYpAAAAAAACSikCamZmZmSOKQGZmZmZmBopAAAAAAAD8iUDNzMzMzPKJQAAAAAAAAIpAmpmZmZkZikCamZmZmc+JQGZmZmZmgohAMzMzMzPNh0A=",
          "dtype": "f8"
         },
         "open": {
          "bdata": "zczMzMwYiEAAAAAAAOCHQGZmZmZmAIhAmpmZmZm/h0BmZmZmZgaIQAAAAAAAqIdAZmZmZmbihkCamZmZmVmIQAAAAAAAEIhAAAAAAAAgiECamZmZmf+HQJqZmZmZFYhAmpmZmZnVh0BmZmZmZhKIQDMzMzMzg4hAAAAAAAC0h0AzMzMzM2mHQJqZmZmZb4dAMzMzMzMfh0AAAAAAALiGQAAAAAAAyIZAMzMzMzO3hkCamZmZmc+GQDMzMzMzp4ZAmpmZmZnnhkCamZmZmeeGQJqZmZmZD4dAzczMzMx2hkAzMzMzM6uFQAAAAAAAooVAZmZmZmbuhUAzMzMzM2eGQAAAAAAAeIZAMzMzMzNFhkCamZmZmcmGQGZmZmZmvoZAZmZmZmaWhkCamZmZmb+GQM3MzMzMjoZAmpmZmZnLhkAAAAAAAPiGQJqZmZmZ54ZAMzMzMzMRh0BmZmZmZiSHQGZmZmZmzodAMzMzMzMNiEBmZmZmZmaIQGZmZmZm8odAMzMzMzPdh0AAAAAAAOiHQDMzMzMzu4dAAAAAAACEh0CamZmZmaGHQAAAAAAAIIdAmpmZmZlZh0CamZmZmX+HQM3MzMzM1odAmpmZmZmHiEBmZmZmZuiHQDMzMzMz94dAMzMzMzPNh0CamZmZmY2HQM3MzMzM1IZAmpmZmZk3h0DNzMzMzMKHQJqZmZmZH4hAAAAAAABoiEBmZmZmZlCIQAAAAAAA8IhAMzMzMzMPiUAAAAAAANiIQM3MzMzM5ohAAAAAAACmiECamZmZmRWJQAAAAAAAiolAAAAAAABoiUAAAAAAAMiJQM3MzMzMkolAZmZmZmYOikBmZmZmZrCJQJqZmZmZkYpAAAAAAADeikAAAAAAANiKQJqZmZmZrYpAAAAAAAD0ikAAAAAAAA6LQAAAAAAA8IpAmpmZmZn3ikCamZmZmReLQDMzMzMz7YpAMzMzMzOzikCamZmZmSOKQJqZmZmZIYpAAAAAAABQikCamZmZmReKQGZmZmZmOopAAAAAAABmikAAAAAAANKJQDMzMzMzjYhAAAAAAAAAiUA=",
          "dtype": "f8"
         },
         "type": "candlestick",
         "x": [
          "2025-04-17T00:00:00.000000000",
          "2025-04-16T00:00:00.000000000",
          "2025-04-15T00:00:00.000000000",
          "2025-04-11T00:00:00.000000000",
          "2025-04-09T00:00:00.000000000",
          "2025-04-08T00:00:00.000000000",
          "2025-04-07T00:00:00.000000000",
          "2025-04-04T00:00:00.000000000",
          "2025-04-03T00:00:00.000000000",
          "2025-04-02T00:00:00.000000000",
          "2025-04-01T00:00:00.000000000",
          "2025-03-28T00:00:00.000000000",
          "2025-03-27T00:00:00.000000000",
          "2025-03-26T00:00:00.000000000",
          "2025-03-25T00:00:00.000000000",
          "2025-03-24T00:00:00.000000000",
          "2025-03-21T00:00:00.000000000",
          "2025-03-20T00:00:00.000000000",
          "2025-03-19T00:00:00.000000000",
          "2025-03-18T00:00:00.000000000",
          "2025-03-17T00:00:00.000000000",
          "2025-03-13T00:00:00.000000000",
          "2025-03-12T00:00:00.000000000",
          "2025-03-11T00:00:00.000000000",
          "2025-03-10T00:00:00.000000000",
          "2025-03-07T00:00:00.000000000",
          "2025-03-06T00:00:00.000000000",
          "2025-03-05T00:00:00.000000000",
          "2025-03-04T00:00:00.000000000",
          "2025-03-03T00:00:00.000000000",
          "2025-02-28T00:00:00.000000000",
          "2025-02-27T00:00:00.000000000",
          "2025-02-25T00:00:00.000000000",
          "2025-02-24T00:00:00.000000000",
          "2025-02-21T00:00:00.000000000",
          "2025-02-20T00:00:00.000000000",
          "2025-02-19T00:00:00.000000000",
          "2025-02-18T00:00:00.000000000",
          "2025-02-17T00:00:00.000000000",
          "2025-02-14T00:00:00.000000000",
          "2025-02-13T00:00:00.000000000",
          "2025-02-12T00:00:00.000000000",
          "2025-02-11T00:00:00.000000000",
          "2025-02-10T00:00:00.000000000",
          "2025-02-07T00:00:00.000000000",
          "2025-02-06T00:00:00.000000000",
          "2025-02-05T00:00:00.000000000",
          "2025-02-04T00:00:00.000000000",
          "2025-02-03T00:00:00.000000000",
          "2025-01-31T00:00:00.000000000",
          "2025-01-30T00:00:00.000000000",
          "2025-01-29T00:00:00.000000000",
          "2025-01-28T00:00:00.000000000",
          "2025-01-27T00:00:00.000000000",
          "2025-01-24T00:00:00.000000000",
          "2025-01-23T00:00:00.000000000",
          "2025-01-22T00:00:00.000000000",
          "2025-01-21T00:00:00.000000000",
          "2025-01-20T00:00:00.000000000",
          "2025-01-17T00:00:00.000000000",
          "2025-01-16T00:00:00.000000000",
          "2025-01-15T00:00:00.000000000",
          "2025-01-14T00:00:00.000000000",
          "2025-01-13T00:00:00.000000000",
          "2025-01-10T00:00:00.000000000",
          "2025-01-09T00:00:00.000000000",
          "2025-01-08T00:00:00.000000000",
          "2025-01-07T00:00:00.000000000",
          "2025-01-06T00:00:00.000000000",
          "2025-01-03T00:00:00.000000000",
          "2025-01-02T00:00:00.000000000",
          "2025-01-01T00:00:00.000000000",
          "2024-12-31T00:00:00.000000000",
          "2024-12-30T00:00:00.000000000",
          "2024-12-27T00:00:00.000000000",
          "2024-12-26T00:00:00.000000000",
          "2024-12-24T00:00:00.000000000",
          "2024-12-23T00:00:00.000000000",
          "2024-12-20T00:00:00.000000000",
          "2024-12-19T00:00:00.000000000",
          "2024-12-18T00:00:00.000000000",
          "2024-12-17T00:00:00.000000000",
          "2024-12-16T00:00:00.000000000",
          "2024-12-13T00:00:00.000000000",
          "2024-12-12T00:00:00.000000000",
          "2024-12-11T00:00:00.000000000",
          "2024-12-10T00:00:00.000000000",
          "2024-12-09T00:00:00.000000000",
          "2024-12-06T00:00:00.000000000",
          "2024-12-05T00:00:00.000000000",
          "2024-12-04T00:00:00.000000000",
          "2024-12-03T00:00:00.000000000",
          "2024-12-02T00:00:00.000000000",
          "2024-11-29T00:00:00.000000000",
          "2024-11-28T00:00:00.000000000",
          "2024-11-27T00:00:00.000000000",
          "2024-11-26T00:00:00.000000000",
          "2024-11-25T00:00:00.000000000",
          "2024-11-22T00:00:00.000000000",
          "2024-11-21T00:00:00.000000000"
         ]
        }
       ],
       "layout": {
        "height": 800,
        "template": {
         "data": {
          "bar": [
           {
            "error_x": {
             "color": "#2a3f5f"
            },
            "error_y": {
             "color": "#2a3f5f"
            },
            "marker": {
             "line": {
              "color": "#E5ECF6",
              "width": 0.5
             },
             "pattern": {
              "fillmode": "overlay",
              "size": 10,
              "solidity": 0.2
             }
            },
            "type": "bar"
           }
          ],
          "barpolar": [
           {
            "marker": {
             "line": {
              "color": "#E5ECF6",
              "width": 0.5
             },
             "pattern": {
              "fillmode": "overlay",
              "size": 10,
              "solidity": 0.2
             }
            },
            "type": "barpolar"
           }
          ],
          "carpet": [
           {
            "aaxis": {
             "endlinecolor": "#2a3f5f",
             "gridcolor": "white",
             "linecolor": "white",
             "minorgridcolor": "white",
             "startlinecolor": "#2a3f5f"
            },
            "baxis": {
             "endlinecolor": "#2a3f5f",
             "gridcolor": "white",
             "linecolor": "white",
             "minorgridcolor": "white",
             "startlinecolor": "#2a3f5f"
            },
            "type": "carpet"
           }
          ],
          "choropleth": [
           {
            "colorbar": {
             "outlinewidth": 0,
             "ticks": ""
            },
            "type": "choropleth"
           }
          ],
          "contour": [
           {
            "colorbar": {
             "outlinewidth": 0,
             "ticks": ""
            },
            "colorscale": [
             [
              0,
              "#0d0887"
             ],
             [
              0.1111111111111111,
              "#46039f"
             ],
             [
              0.2222222222222222,
              "#7201a8"
             ],
             [
              0.3333333333333333,
              "#9c179e"
             ],
             [
              0.4444444444444444,
              "#bd3786"
             ],
             [
              0.5555555555555556,
              "#d8576b"
             ],
             [
              0.6666666666666666,
              "#ed7953"
             ],
             [
              0.7777777777777778,
              "#fb9f3a"
             ],
             [
              0.8888888888888888,
              "#fdca26"
             ],
             [
              1,
              "#f0f921"
             ]
            ],
            "type": "contour"
           }
          ],
          "contourcarpet": [
           {
            "colorbar": {
             "outlinewidth": 0,
             "ticks": ""
            },
            "type": "contourcarpet"
           }
          ],
          "heatmap": [
           {
            "colorbar": {
             "outlinewidth": 0,
             "ticks": ""
            },
            "colorscale": [
             [
              0,
              "#0d0887"
             ],
             [
              0.1111111111111111,
              "#46039f"
             ],
             [
              0.2222222222222222,
              "#7201a8"
             ],
             [
              0.3333333333333333,
              "#9c179e"
             ],
             [
              0.4444444444444444,
              "#bd3786"
             ],
             [
              0.5555555555555556,
              "#d8576b"
             ],
             [
              0.6666666666666666,
              "#ed7953"
             ],
             [
              0.7777777777777778,
              "#fb9f3a"
             ],
             [
              0.8888888888888888,
              "#fdca26"
             ],
             [
              1,
              "#f0f921"
             ]
            ],
            "type": "heatmap"
           }
          ],
          "histogram": [
           {
            "marker": {
             "pattern": {
              "fillmode": "overlay",
              "size": 10,
              "solidity": 0.2
             }
            },
            "type": "histogram"
           }
          ],
          "histogram2d": [
           {
            "colorbar": {
             "outlinewidth": 0,
             "ticks": ""
            },
            "colorscale": [
             [
              0,
              "#0d0887"
             ],
             [
              0.1111111111111111,
              "#46039f"
             ],
             [
              0.2222222222222222,
              "#7201a8"
             ],
             [
              0.3333333333333333,
              "#9c179e"
             ],
             [
              0.4444444444444444,
              "#bd3786"
             ],
             [
              0.5555555555555556,
              "#d8576b"
             ],
             [
              0.6666666666666666,
              "#ed7953"
             ],
             [
              0.7777777777777778,
              "#fb9f3a"
             ],
             [
              0.8888888888888888,
              "#fdca26"
             ],
             [
              1,
              "#f0f921"
             ]
            ],
            "type": "histogram2d"
           }
          ],
          "histogram2dcontour": [
           {
            "colorbar": {
             "outlinewidth": 0,
             "ticks": ""
            },
            "colorscale": [
             [
              0,
              "#0d0887"
             ],
             [
              0.1111111111111111,
              "#46039f"
             ],
             [
              0.2222222222222222,
              "#7201a8"
             ],
             [
              0.3333333333333333,
              "#9c179e"
             ],
             [
              0.4444444444444444,
              "#bd3786"
             ],
             [
              0.5555555555555556,
              "#d8576b"
             ],
             [
              0.6666666666666666,
              "#ed7953"
             ],
             [
              0.7777777777777778,
              "#fb9f3a"
             ],
             [
              0.8888888888888888,
              "#fdca26"
             ],
             [
              1,
              "#f0f921"
             ]
            ],
            "type": "histogram2dcontour"
           }
          ],
          "mesh3d": [
           {
            "colorbar": {
             "outlinewidth": 0,
             "ticks": ""
            },
            "type": "mesh3d"
           }
          ],
          "parcoords": [
           {
            "line": {
             "colorbar": {
              "outlinewidth": 0,
              "ticks": ""
             }
            },
            "type": "parcoords"
           }
          ],
          "pie": [
           {
            "automargin": true,
            "type": "pie"
           }
          ],
          "scatter": [
           {
            "fillpattern": {
             "fillmode": "overlay",
             "size": 10,
             "solidity": 0.2
            },
            "type": "scatter"
           }
          ],
          "scatter3d": [
           {
            "line": {
             "colorbar": {
              "outlinewidth": 0,
              "ticks": ""
             }
            },
            "marker": {
             "colorbar": {
              "outlinewidth": 0,
              "ticks": ""
             }
            },
            "type": "scatter3d"
           }
          ],
          "scattercarpet": [
           {
            "marker": {
             "colorbar": {
              "outlinewidth": 0,
              "ticks": ""
             }
            },
            "type": "scattercarpet"
           }
          ],
          "scattergeo": [
           {
            "marker": {
             "colorbar": {
              "outlinewidth": 0,
              "ticks": ""
             }
            },
            "type": "scattergeo"
           }
          ],
          "scattergl": [
           {
            "marker": {
             "colorbar": {
              "outlinewidth": 0,
              "ticks": ""
             }
            },
            "type": "scattergl"
           }
          ],
          "scattermap": [
           {
            "marker": {
             "colorbar": {
              "outlinewidth": 0,
              "ticks": ""
             }
            },
            "type": "scattermap"
           }
          ],
          "scattermapbox": [
           {
            "marker": {
             "colorbar": {
              "outlinewidth": 0,
              "ticks": ""
             }
            },
            "type": "scattermapbox"
           }
          ],
          "scatterpolar": [
           {
            "marker": {
             "colorbar": {
              "outlinewidth": 0,
              "ticks": ""
             }
            },
            "type": "scatterpolar"
           }
          ],
          "scatterpolargl": [
           {
            "marker": {
             "colorbar": {
              "outlinewidth": 0,
              "ticks": ""
             }
            },
            "type": "scatterpolargl"
           }
          ],
          "scatterternary": [
           {
            "marker": {
             "colorbar": {
              "outlinewidth": 0,
              "ticks": ""
             }
            },
            "type": "scatterternary"
           }
          ],
          "surface": [
           {
            "colorbar": {
             "outlinewidth": 0,
             "ticks": ""
            },
            "colorscale": [
             [
              0,
              "#0d0887"
             ],
             [
              0.1111111111111111,
              "#46039f"
             ],
             [
              0.2222222222222222,
              "#7201a8"
             ],
             [
              0.3333333333333333,
              "#9c179e"
             ],
             [
              0.4444444444444444,
              "#bd3786"
             ],
             [
              0.5555555555555556,
              "#d8576b"
             ],
             [
              0.6666666666666666,
              "#ed7953"
             ],
             [
              0.7777777777777778,
              "#fb9f3a"
             ],
             [
              0.8888888888888888,
              "#fdca26"
             ],
             [
              1,
              "#f0f921"
             ]
            ],
            "type": "surface"
           }
          ],
          "table": [
           {
            "cells": {
             "fill": {
              "color": "#EBF0F8"
             },
             "line": {
              "color": "white"
             }
            },
            "header": {
             "fill": {
              "color": "#C8D4E3"
             },
             "line": {
              "color": "white"
             }
            },
            "type": "table"
           }
          ]
         },
         "layout": {
          "annotationdefaults": {
           "arrowcolor": "#2a3f5f",
           "arrowhead": 0,
           "arrowwidth": 1
          },
          "autotypenumbers": "strict",
          "coloraxis": {
           "colorbar": {
            "outlinewidth": 0,
            "ticks": ""
           }
          },
          "colorscale": {
           "diverging": [
            [
             0,
             "#8e0152"
            ],
            [
             0.1,
             "#c51b7d"
            ],
            [
             0.2,
             "#de77ae"
            ],
            [
             0.3,
             "#f1b6da"
            ],
            [
             0.4,
             "#fde0ef"
            ],
            [
             0.5,
             "#f7f7f7"
            ],
            [
             0.6,
             "#e6f5d0"
            ],
            [
             0.7,
             "#b8e186"
            ],
            [
             0.8,
             "#7fbc41"
            ],
            [
             0.9,
             "#4d9221"
            ],
            [
             1,
             "#276419"
            ]
           ],
           "sequential": [
            [
             0,
             "#0d0887"
            ],
            [
             0.1111111111111111,
             "#46039f"
            ],
            [
             0.2222222222222222,
             "#7201a8"
            ],
            [
             0.3333333333333333,
             "#9c179e"
            ],
            [
             0.4444444444444444,
             "#bd3786"
            ],
            [
             0.5555555555555556,
             "#d8576b"
            ],
            [
             0.6666666666666666,
             "#ed7953"
            ],
            [
             0.7777777777777778,
             "#fb9f3a"
            ],
            [
             0.8888888888888888,
             "#fdca26"
            ],
            [
             1,
             "#f0f921"
            ]
           ],
           "sequentialminus": [
            [
             0,
             "#0d0887"
            ],
            [
             0.1111111111111111,
             "#46039f"
            ],
            [
             0.2222222222222222,
             "#7201a8"
            ],
            [
             0.3333333333333333,
             "#9c179e"
            ],
            [
             0.4444444444444444,
             "#bd3786"
            ],
            [
             0.5555555555555556,
             "#d8576b"
            ],
            [
             0.6666666666666666,
             "#ed7953"
            ],
            [
             0.7777777777777778,
             "#fb9f3a"
            ],
            [
             0.8888888888888888,
             "#fdca26"
            ],
            [
             1,
             "#f0f921"
            ]
           ]
          },
          "colorway": [
           "#636efa",
           "#EF553B",
           "#00cc96",
           "#ab63fa",
           "#FFA15A",
           "#19d3f3",
           "#FF6692",
           "#B6E880",
           "#FF97FF",
           "#FECB52"
          ],
          "font": {
           "color": "#2a3f5f"
          },
          "geo": {
           "bgcolor": "white",
           "lakecolor": "white",
           "landcolor": "#E5ECF6",
           "showlakes": true,
           "showland": true,
           "subunitcolor": "white"
          },
          "hoverlabel": {
           "align": "left"
          },
          "hovermode": "closest",
          "mapbox": {
           "style": "light"
          },
          "paper_bgcolor": "white",
          "plot_bgcolor": "#E5ECF6",
          "polar": {
           "angularaxis": {
            "gridcolor": "white",
            "linecolor": "white",
            "ticks": ""
           },
           "bgcolor": "#E5ECF6",
           "radialaxis": {
            "gridcolor": "white",
            "linecolor": "white",
            "ticks": ""
           }
          },
          "scene": {
           "xaxis": {
            "backgroundcolor": "#E5ECF6",
            "gridcolor": "white",
            "gridwidth": 2,
            "linecolor": "white",
            "showbackground": true,
            "ticks": "",
            "zerolinecolor": "white"
           },
           "yaxis": {
            "backgroundcolor": "#E5ECF6",
            "gridcolor": "white",
            "gridwidth": 2,
            "linecolor": "white",
            "showbackground": true,
            "ticks": "",
            "zerolinecolor": "white"
           },
           "zaxis": {
            "backgroundcolor": "#E5ECF6",
            "gridcolor": "white",
            "gridwidth": 2,
            "linecolor": "white",
            "showbackground": true,
            "ticks": "",
            "zerolinecolor": "white"
           }
          },
          "shapedefaults": {
           "line": {
            "color": "#2a3f5f"
           }
          },
          "ternary": {
           "aaxis": {
            "gridcolor": "white",
            "linecolor": "white",
            "ticks": ""
           },
           "baxis": {
            "gridcolor": "white",
            "linecolor": "white",
            "ticks": ""
           },
           "bgcolor": "#E5ECF6",
           "caxis": {
            "gridcolor": "white",
            "linecolor": "white",
            "ticks": ""
           }
          },
          "title": {
           "x": 0.05
          },
          "xaxis": {
           "automargin": true,
           "gridcolor": "white",
           "linecolor": "white",
           "ticks": "",
           "title": {
            "standoff": 15
           },
           "zerolinecolor": "white",
           "zerolinewidth": 2
          },
          "yaxis": {
           "automargin": true,
           "gridcolor": "white",
           "linecolor": "white",
           "ticks": "",
           "title": {
            "standoff": 15
           },
           "zerolinecolor": "white",
           "zerolinewidth": 2
          }
         }
        },
        "width": 1200
       }
      }
     },
     "metadata": {},
     "output_type": "display_data"
    }
   ],
   "source": [
    "fig = go.Figure(data =[\n",
    "    go.Candlestick(\n",
    "        x = df.index,\n",
    "        open = df[\"1. open\"],\n",
    "        high = df[\"2. high\"],\n",
    "        low = df[\"3. low\"],\n",
    "        close = df[\"4. close\"]\n",
    "    )\n",
    "])\n",
    "\n",
    "fig.update_layout(width = 1200, height = 800)\n",
    "\n",
    "fig.show()"
   ]
  },
  {
   "cell_type": "code",
   "execution_count": 28,
   "id": "d19dd345",
   "metadata": {},
   "outputs": [
    {
     "data": {
      "text/plain": [
       "plotly.graph_objs._figure.Figure"
      ]
     },
     "execution_count": 28,
     "metadata": {},
     "output_type": "execute_result"
    }
   ],
   "source": [
    "type(fig)"
   ]
  },
  {
   "cell_type": "code",
   "execution_count": 29,
   "id": "211fc77c",
   "metadata": {},
   "outputs": [],
   "source": [
    "#  CREATE A CLASS TO GET DATA FOR ANT STOCK"
   ]
  },
  {
   "cell_type": "code",
   "execution_count": 31,
   "id": "260ef464",
   "metadata": {},
   "outputs": [],
   "source": [
    "from dotenv import load_dotenv\n",
    "import os\n",
    "import pandas as pd\n",
    "import requests\n",
    "import plotly.graph_objects as go"
   ]
  },
  {
   "cell_type": "code",
   "execution_count": 32,
   "id": "1f20cde0",
   "metadata": {},
   "outputs": [],
   "source": [
    "class StockAPI:\n",
    "\n",
    "    def __init__(self):\n",
    "        # Load the api key\n",
    "        load_dotenv()\n",
    "        self.api_key = os.getenv(\"API_KEY\")\n",
    "        # Get the url\n",
    "        self.url = \"https://alpha-vantage.p.rapidapi.com/query\"\n",
    "        # Show the headers\n",
    "        self.headers = {\n",
    "            \"x-rapidapi-key\": self.api_key,\n",
    "            \"x-rapidapi-host\": \"alpha-vantage.p.rapidapi.com\",\n",
    "        }\n",
    "\n",
    "    def symbol_search(self, company: str) -> dict:\n",
    "        querystring = {\n",
    "            \"datatype\": \"json\",\n",
    "            \"keywords\": company,\n",
    "            \"function\": \"SYMBOL_SEARCH\",\n",
    "        }\n",
    "        response = requests.get(self.url, headers=self.headers, params=querystring)\n",
    "        data = response.json()[\"bestMatches\"]\n",
    "        symbols = {}\n",
    "        for i in data:\n",
    "            s = i[\"1. symbol\"]\n",
    "            symbols[s] = [i[\"2. name\"], i[\"4. region\"], i[\"8. currency\"]]\n",
    "        # Return the symbols dictionary\n",
    "        return symbols\n",
    "\n",
    "    def get_daily_data(self, symbol: str) -> pd.DataFrame:\n",
    "        querystring = {\n",
    "            \"function\": \"TIME_SERIES_DAILY\",\n",
    "            \"symbol\": symbol,\n",
    "            \"outputsize\": \"compact\",\n",
    "            \"datatype\": \"json\",\n",
    "        }\n",
    "        response = requests.get(self.url, headers= self.headers, params=querystring)\n",
    "        data = response.json()[\"Time Series (Daily)\"]\n",
    "        # Convert into dataframe\n",
    "        df = pd.DataFrame(data).T\n",
    "        # Convert datatypes to float\n",
    "        df = df.astype(float)\n",
    "        # Convert index to datetime\n",
    "        df.index = pd.to_datetime(df.index)\n",
    "        # Provide a name to index\n",
    "        df.index.name = \"Date\"\n",
    "        return df\n",
    "    \n",
    "    def candlestick_chart(self, df: pd.DataFrame) -> go.Figure:\n",
    "        fig = go.Figure(data = [\n",
    "            go.Candlestick(\n",
    "                x = df.index,\n",
    "                open= df[\"1. open\"],\n",
    "                high= df[\"2. high\"],\n",
    "                low = df[\"3. low\"],\n",
    "                close= df[\"4. close\"]\n",
    "            )\n",
    "        ])\n",
    "        fig.update_layout(width = 1200, height = 800)\n",
    "        return fig"
   ]
  },
  {
   "cell_type": "code",
   "execution_count": 33,
   "id": "127a1d56",
   "metadata": {},
   "outputs": [],
   "source": [
    "# GET THE DETAILS FOR TESLA COMPANY STOCK\n",
    "client = StockAPI()"
   ]
  },
  {
   "cell_type": "code",
   "execution_count": 34,
   "id": "021f86db",
   "metadata": {},
   "outputs": [
    {
     "data": {
      "text/plain": [
       "{'TSLA': ['Tesla Inc', 'United States', 'USD'],\n",
       " 'TL0.DEX': ['Tesla Inc', 'XETRA', 'EUR'],\n",
       " 'TL0.FRK': ['Tesla Inc', 'Frankfurt', 'EUR'],\n",
       " 'TSLA34.SAO': ['Tesla Inc', 'Brazil/Sao Paolo', 'BRL'],\n",
       " 'TSLA.TRT': ['Tesla CDR (CAD Hedged)', 'Toronto', 'CAD'],\n",
       " 'TL01.FRK': ['TESLA INC. CDR DL-001', 'Frankfurt', 'EUR']}"
      ]
     },
     "execution_count": 34,
     "metadata": {},
     "output_type": "execute_result"
    }
   ],
   "source": [
    "client.symbol_search(\"Tesla\")"
   ]
  },
  {
   "cell_type": "code",
   "execution_count": 36,
   "id": "2017b246",
   "metadata": {},
   "outputs": [
    {
     "data": {
      "text/html": [
       "<div>\n",
       "<style scoped>\n",
       "    .dataframe tbody tr th:only-of-type {\n",
       "        vertical-align: middle;\n",
       "    }\n",
       "\n",
       "    .dataframe tbody tr th {\n",
       "        vertical-align: top;\n",
       "    }\n",
       "\n",
       "    .dataframe thead th {\n",
       "        text-align: right;\n",
       "    }\n",
       "</style>\n",
       "<table border=\"1\" class=\"dataframe\">\n",
       "  <thead>\n",
       "    <tr style=\"text-align: right;\">\n",
       "      <th></th>\n",
       "      <th>1. open</th>\n",
       "      <th>2. high</th>\n",
       "      <th>3. low</th>\n",
       "      <th>4. close</th>\n",
       "      <th>5. volume</th>\n",
       "    </tr>\n",
       "    <tr>\n",
       "      <th>Date</th>\n",
       "      <th></th>\n",
       "      <th></th>\n",
       "      <th></th>\n",
       "      <th></th>\n",
       "      <th></th>\n",
       "    </tr>\n",
       "  </thead>\n",
       "  <tbody>\n",
       "    <tr>\n",
       "      <th>2025-04-17</th>\n",
       "      <td>243.470</td>\n",
       "      <td>244.3400</td>\n",
       "      <td>237.6833</td>\n",
       "      <td>241.37</td>\n",
       "      <td>83404775.0</td>\n",
       "    </tr>\n",
       "    <tr>\n",
       "      <th>2025-04-16</th>\n",
       "      <td>247.610</td>\n",
       "      <td>251.9700</td>\n",
       "      <td>233.8900</td>\n",
       "      <td>241.55</td>\n",
       "      <td>112378737.0</td>\n",
       "    </tr>\n",
       "    <tr>\n",
       "      <th>2025-04-15</th>\n",
       "      <td>249.910</td>\n",
       "      <td>258.7500</td>\n",
       "      <td>247.5400</td>\n",
       "      <td>254.11</td>\n",
       "      <td>79594318.0</td>\n",
       "    </tr>\n",
       "    <tr>\n",
       "      <th>2025-04-14</th>\n",
       "      <td>258.360</td>\n",
       "      <td>261.8000</td>\n",
       "      <td>245.9300</td>\n",
       "      <td>252.35</td>\n",
       "      <td>100135241.0</td>\n",
       "    </tr>\n",
       "    <tr>\n",
       "      <th>2025-04-11</th>\n",
       "      <td>251.840</td>\n",
       "      <td>257.7400</td>\n",
       "      <td>241.3629</td>\n",
       "      <td>252.31</td>\n",
       "      <td>128948085.0</td>\n",
       "    </tr>\n",
       "    <tr>\n",
       "      <th>...</th>\n",
       "      <td>...</td>\n",
       "      <td>...</td>\n",
       "      <td>...</td>\n",
       "      <td>...</td>\n",
       "      <td>...</td>\n",
       "    </tr>\n",
       "    <tr>\n",
       "      <th>2024-11-27</th>\n",
       "      <td>341.800</td>\n",
       "      <td>342.5500</td>\n",
       "      <td>326.5900</td>\n",
       "      <td>332.89</td>\n",
       "      <td>57896439.0</td>\n",
       "    </tr>\n",
       "    <tr>\n",
       "      <th>2024-11-26</th>\n",
       "      <td>341.000</td>\n",
       "      <td>346.9600</td>\n",
       "      <td>335.6600</td>\n",
       "      <td>338.23</td>\n",
       "      <td>62295857.0</td>\n",
       "    </tr>\n",
       "    <tr>\n",
       "      <th>2024-11-25</th>\n",
       "      <td>360.140</td>\n",
       "      <td>361.9300</td>\n",
       "      <td>338.2000</td>\n",
       "      <td>338.59</td>\n",
       "      <td>95890899.0</td>\n",
       "    </tr>\n",
       "    <tr>\n",
       "      <th>2024-11-22</th>\n",
       "      <td>341.085</td>\n",
       "      <td>361.5300</td>\n",
       "      <td>337.7000</td>\n",
       "      <td>352.56</td>\n",
       "      <td>89140722.0</td>\n",
       "    </tr>\n",
       "    <tr>\n",
       "      <th>2024-11-21</th>\n",
       "      <td>343.810</td>\n",
       "      <td>347.9899</td>\n",
       "      <td>335.2800</td>\n",
       "      <td>339.64</td>\n",
       "      <td>58011719.0</td>\n",
       "    </tr>\n",
       "  </tbody>\n",
       "</table>\n",
       "<p>100 rows × 5 columns</p>\n",
       "</div>"
      ],
      "text/plain": [
       "            1. open   2. high    3. low  4. close    5. volume\n",
       "Date                                                          \n",
       "2025-04-17  243.470  244.3400  237.6833    241.37   83404775.0\n",
       "2025-04-16  247.610  251.9700  233.8900    241.55  112378737.0\n",
       "2025-04-15  249.910  258.7500  247.5400    254.11   79594318.0\n",
       "2025-04-14  258.360  261.8000  245.9300    252.35  100135241.0\n",
       "2025-04-11  251.840  257.7400  241.3629    252.31  128948085.0\n",
       "...             ...       ...       ...       ...          ...\n",
       "2024-11-27  341.800  342.5500  326.5900    332.89   57896439.0\n",
       "2024-11-26  341.000  346.9600  335.6600    338.23   62295857.0\n",
       "2024-11-25  360.140  361.9300  338.2000    338.59   95890899.0\n",
       "2024-11-22  341.085  361.5300  337.7000    352.56   89140722.0\n",
       "2024-11-21  343.810  347.9899  335.2800    339.64   58011719.0\n",
       "\n",
       "[100 rows x 5 columns]"
      ]
     },
     "execution_count": 36,
     "metadata": {},
     "output_type": "execute_result"
    }
   ],
   "source": [
    "df2 = client.get_daily_data(\"TSLA\")\n",
    "df2"
   ]
  },
  {
   "cell_type": "code",
   "execution_count": 37,
   "id": "df18818d",
   "metadata": {},
   "outputs": [],
   "source": [
    "df2.to_csv(\"Tesla.csv\")"
   ]
  },
  {
   "cell_type": "code",
   "execution_count": 38,
   "id": "337ab653",
   "metadata": {},
   "outputs": [
    {
     "data": {
      "application/vnd.plotly.v1+json": {
       "config": {
        "plotlyServerURL": "https://plot.ly"
       },
       "data": [
        {
         "close": {
          "bdata": "pHA9CtcrbkCamZmZmTFuQOxRuB6Fw29AMzMzMzOLb0BSuB6F64lvQM3MzMzMjG9AMzMzMzMDcUDsUbgehbtrQOF6FK5HKW1A9ihcj8LtbUAUrkfherRwQFyPwvUorHFAj8L1KFzHcEDD9ShcjzJwQM3MzMzMeHBArkfhehQScUApXI/C9QBxQArXo3A9AnJACtejcD1mcUAfhetRuBZvQLgehetRiG1A7FG4HoV7bUBSuB6F6ylsQLgehetRwG1Aj8L1KFw/b0D2KFyPwhVuQHsUrkfhAm9Aw/UoXI/SbEDNzMzMzMRrQB+F61G4anBAMzMzMzN3cECamZmZmXFxQHE9CtejAHFAZmZmZmbKcUBI4XoUrk9yQDMzMzMzn3FAzczMzMwsckDNzMzMzOxyQBSuR+F6qHRAzczMzMwcdUBmZmZmZiZ2QClcj8L1iHZA9ihcj8IhdkA9CtejcD12QNejcD0KP3ZAXI/C9SgIdUAAAAAAAIh0QEjhehSu63VAUrgeheuZdkCF61G4HmV3QB+F61G4ondAj8L1KFyDeEB7FK5H4fp3QJqZmZmZSXlAFK5H4XoEeUCamZmZmVF4QD0K16Nw4XhAZmZmZmbSeEDhehSuR2l5QK5H4XoUxnlA9ihcj8LxeUCF61G4HoF6QAAAAAAAqHpAhetRuB7deUDsUbgehcN6QPYoXI/CxXhAKVyPwvU0eUCkcD0K16t4QNejcD0Kr3hA9ihcj8KleEDNzMzMzLB5QNejcD0Kp3lAFK5H4Xq0d0A9CtejcD15QMP1KFyPFnpAw/UoXI/6ekCuR+F6FGJ8QBSuR+F65HxAmpmZmZnpekApXI/C9VB6QB+F61G4QntArkfhehSCe0D2KFyPwv19QLgehetR8HxASOF6FK5De0CamZmZmSF6QLgehetRjHpApHA9CtcPeUBxPQrXo1x4QOxRuB6FU3hApHA9CtcXd0B7FK5H4V52QB+F61G49nVAPQrXo3BRdkDD9Shcj5J1QArXo3A9znRASOF6FK4jdUA9CtejcCl1QClcj8L1CHZACtejcD06dUA=",
          "dtype": "f8"
         },
         "high": {
          "bdata": "exSuR+GKbkDXo3A9Cn9vQAAAAAAALHBAzczMzMxccECkcD0K1xtwQKRwPQrXZ3BA16NwPQorcUCuR+F6FE5vQAAAAAAAgG9AAAAAAABQcEDNzMzMzERxQKRwPQrXz3FAMzMzMzNXcUApXI/C9UhwQJqZmZmZQXFAmpmZmZk9ckBmZmZmZs5xQDMzMzMzA3JACtejcD1qcUBxPQrXozBvQAAAAAAAwG1AhetRuB4tbkAzMzMzM8NsQM3MzMzMrG5Aw/UoXI9yb0DhehSuRwlvQHsUrkfhem9AVTAqqROibUCkcD0K16tvQFR0JJf/o3BAZmZmZmYKcUDNzMzMzHhxQJqZmZmZxXFA16NwPQr/ckCuR+F6FF5yQEjhehSuk3JAAAAAAABQc0AK16NwPY50QDarPldbZnVASOF6FK4vdkDNzMzMzKR2QD0K16Nw9XZAmpmZmZlxdkAAAAAAAKB2QNejcD0Ka3ZAZmZmZmamdUBSuB6F69V1QDMzMzMzq3ZAL26jAbzId0BmZmZmZnZ3QArXo3A9RnhAAAAAAACgeEAfhetRuFJ4QKRwPQrXP3pAAAAAAADIeUCRfvs6cOl4QD0K16NwCXlA16NwPQpreUCuR+F6FC56QEjhehSuS3pAAAAAAADAekAzMzMzMxN7QKRwPQrXe3tAAAAAAACAekDNzMzMzNx6QArXo3A9anpAcT0K16M8eUAUrkfhevR4QFR0JJf/J3lA4XoUrkfleUB7FK5H4aZ6QAK8BRIUvnlAm1Wfq62LeEB7FK5H4b56QAAAAAAAsHpAAAAAAAAgfEA17zhFRxV9QBSuR+F67HxAXI/C9Sgoe0DhehSuR/F7QPYoXI/ChXxAxLEubqOIfkCkcD0K1z9+QNejcD0K83xAzczMzMxEe0DNzMzMzNR6QK5H4XoUjnpASOF6FK6beUDNzMzMzEx5QKRwPQrXV3hAexSuR+F2d0CamZmZmWF2QNejcD0KO3ZAAAAAAACAdkAzMzMzM5d1QM3MzMzMaHVAj8L1KFyvdUB7FK5H4Z52QBSuR+F6mHZA9+Rhoda/dUA=",
          "dtype": "f8"
         },
         "low": {
          "bdata": "ayv2l921bUAUrkfhejxtQOF6FK5H8W5A9ihcj8K9bkD99nXgnCtuQMP1KFyP6m1AXI/C9Sj8a0CamZmZmTlrQAAAAAAAyGpAAAAAAACAbUBcj8L1KFhwQHE9CtejaG9AAAAAAAA0cEBEaW/whWtuQIXrUbgeSXBATKYKRiX9cEBcj8L1KKhwQBSuR+F69HBA4XoUrkcFcECamZmZmVFtQPKwUGuawWxA30+Nl26mbEApXI/C9chrQJqZmZmZGW1Aj8L1KFwXbkAzMzMzMxNtQDMzMzMzI25AcT0K16Mga0AAAAAAAIBrQI/C9ShcV29AuB6F61FAcECPwvUoXLtwQOqVsgxxXXBAzczMzMxUcUCamZmZmRlxQK5H4XoUjnFAcT0K16MAckAVjErqBJRyQDMzMzMzS3RAH4XrUbjmdEAAAAAAAMB1QB+F61G4GnZAuB6F61HgdUAAAAAAALh1QJqZmZmZbXVAUrgeheuRdECamZmZmVF0QFyPwvUo6HVAPQrXo3CFdkB7FK5H4bJ2QBSuR+F6eHdAZmZmZmbWd0D2KFyPwmV3QD0K16NwFXlAw/UoXI8GeEBI4XoUrgd4QAAAAAAAKHhAAAAAAABQeEAUrkfhelx5QDMzMzMzj3lAPQrXo3DpeUApXI/C9WR5QAAAAAAAPHpArkfhehSSeUB/arx0k1p5QHE9CtejqHhAhetRuB7Bd0BxPQrXo5R3QGZmZmZmNnhAAAAAAABgeEAzMzMzMxt5QDMzMzMzt3dAcT0K16NQd0BxPQrXoyh5QAAAAAAA/HlAAAAAAACoekC4HoXrUTB8QArXo3A9MntA2IFzRpT2eUAK16NwPRp6QLgehetRQHpAXI/C9SiwekAJG55eKZh8QGZmZmZmQntAj8L1KFz7eUAAAAAAAPB5QK5H4XoUJnlAmpmZmZlteEBcj8L1KKB3QM3MzMzMLHdAAAAAAAB4dkCamZmZmcl1QDMzMzMzw3VAE/JBz2bydUBmZmZmZup0QD0K16NwaXRAw/UoXI/6dEAzMzMzMyN1QDMzMzMzG3VAFK5H4Xr0dEA=",
          "dtype": "f8"
         },
         "open": {
          "bdata": "16NwPQpvbkDsUbgehfNuQIXrUbgePW9A9ihcj8IlcEB7FK5H4XpvQAAAAAAAQHBArkfhehQWbEAAAAAAAKBuQClcj8L1+GtAXI/C9Sjsb0BxPQrXo5RwQDMzMzMz029AzczMzMx8cEBSuB6F6ylvQDMzMzMzOXFASOF6FK4HcUDD9Shcj6pxQJqZmZmZuXFAMzMzMzMhcEDsUbgehV9tQNejcD0KK21A7FG4HoXzbEApXI/C9YRsQPYoXI/CoW5AUrgehevpbkAAAAAAAARvQNejcD0K525A9ihcj8IpbEDhehSuR5FvQIXrUbgeNXBAKVyPwvUAcUAfhetRuA5xQHsUrkfh7nBAPQrXo3DFckAAAAAAAHhxQMP1KFyPMnJAPQrXo3D7ckBmZmZmZnB0QArXo3A9InVA16NwPQoXdkBcj8L1KJh2QAAAAAAAIHZAXI/C9SgwdkBSuB6F64l2QAAAAAAAkHVA16NwPQqfdEDNzMzMzJx1QI/C9ShcQ3ZA16NwPQojd0AUrkfhelB3QFyPwvUoOHhArkfhehTqd0B7FK5H4Sp4QBSuR+F6GHlAFK5H4XqseUCPwvUoXLN4QMP1KFyPznhAzczMzMyseEAzMzMzM+d5QClcj8L1AHpAKVyPwvUMekAK16NwPQp7QAAAAAAAWHpApHA9Ctd3ekBmZmZmZp55QD0K16Nw5XlAj8L1KFzzd0BmZmZmZnZ4QDMzMzMzj3hA4XoUrkddeUAzMzMzM3N6QEjhehSu13dAmpmZmZlheEBxPQrXo3x6QGZmZmZmNnpAuB6F61EYfEDD9ShcjxJ9QGZmZmZmPntAAAAAAADwekCuR+F6FJh6QK5H4XoUPnxAUrgehesnfUBmZmZmZr59QD0K16NwkXtAAAAAAABAekA9CtejcI16QDMzMzMzm3lAexSuR+GKeED2KFyPwtl4QB+F61G4lndAUrgehet9dkAAAAAAABB2QM3MzMzM/HVArkfhehQGdkDhehSuRwF1QM3MzMzMXHVAAAAAAABQdUAK16NwPYJ2QI/C9ShcUXVAKVyPwvV8dUA=",
          "dtype": "f8"
         },
         "type": "candlestick",
         "x": [
          "2025-04-17T00:00:00.000000000",
          "2025-04-16T00:00:00.000000000",
          "2025-04-15T00:00:00.000000000",
          "2025-04-14T00:00:00.000000000",
          "2025-04-11T00:00:00.000000000",
          "2025-04-10T00:00:00.000000000",
          "2025-04-09T00:00:00.000000000",
          "2025-04-08T00:00:00.000000000",
          "2025-04-07T00:00:00.000000000",
          "2025-04-04T00:00:00.000000000",
          "2025-04-03T00:00:00.000000000",
          "2025-04-02T00:00:00.000000000",
          "2025-04-01T00:00:00.000000000",
          "2025-03-31T00:00:00.000000000",
          "2025-03-28T00:00:00.000000000",
          "2025-03-27T00:00:00.000000000",
          "2025-03-26T00:00:00.000000000",
          "2025-03-25T00:00:00.000000000",
          "2025-03-24T00:00:00.000000000",
          "2025-03-21T00:00:00.000000000",
          "2025-03-20T00:00:00.000000000",
          "2025-03-19T00:00:00.000000000",
          "2025-03-18T00:00:00.000000000",
          "2025-03-17T00:00:00.000000000",
          "2025-03-14T00:00:00.000000000",
          "2025-03-13T00:00:00.000000000",
          "2025-03-12T00:00:00.000000000",
          "2025-03-11T00:00:00.000000000",
          "2025-03-10T00:00:00.000000000",
          "2025-03-07T00:00:00.000000000",
          "2025-03-06T00:00:00.000000000",
          "2025-03-05T00:00:00.000000000",
          "2025-03-04T00:00:00.000000000",
          "2025-03-03T00:00:00.000000000",
          "2025-02-28T00:00:00.000000000",
          "2025-02-27T00:00:00.000000000",
          "2025-02-26T00:00:00.000000000",
          "2025-02-25T00:00:00.000000000",
          "2025-02-24T00:00:00.000000000",
          "2025-02-21T00:00:00.000000000",
          "2025-02-20T00:00:00.000000000",
          "2025-02-19T00:00:00.000000000",
          "2025-02-18T00:00:00.000000000",
          "2025-02-14T00:00:00.000000000",
          "2025-02-13T00:00:00.000000000",
          "2025-02-12T00:00:00.000000000",
          "2025-02-11T00:00:00.000000000",
          "2025-02-10T00:00:00.000000000",
          "2025-02-07T00:00:00.000000000",
          "2025-02-06T00:00:00.000000000",
          "2025-02-05T00:00:00.000000000",
          "2025-02-04T00:00:00.000000000",
          "2025-02-03T00:00:00.000000000",
          "2025-01-31T00:00:00.000000000",
          "2025-01-30T00:00:00.000000000",
          "2025-01-29T00:00:00.000000000",
          "2025-01-28T00:00:00.000000000",
          "2025-01-27T00:00:00.000000000",
          "2025-01-24T00:00:00.000000000",
          "2025-01-23T00:00:00.000000000",
          "2025-01-22T00:00:00.000000000",
          "2025-01-21T00:00:00.000000000",
          "2025-01-17T00:00:00.000000000",
          "2025-01-16T00:00:00.000000000",
          "2025-01-15T00:00:00.000000000",
          "2025-01-14T00:00:00.000000000",
          "2025-01-13T00:00:00.000000000",
          "2025-01-10T00:00:00.000000000",
          "2025-01-08T00:00:00.000000000",
          "2025-01-07T00:00:00.000000000",
          "2025-01-06T00:00:00.000000000",
          "2025-01-03T00:00:00.000000000",
          "2025-01-02T00:00:00.000000000",
          "2024-12-31T00:00:00.000000000",
          "2024-12-30T00:00:00.000000000",
          "2024-12-27T00:00:00.000000000",
          "2024-12-26T00:00:00.000000000",
          "2024-12-24T00:00:00.000000000",
          "2024-12-23T00:00:00.000000000",
          "2024-12-20T00:00:00.000000000",
          "2024-12-19T00:00:00.000000000",
          "2024-12-18T00:00:00.000000000",
          "2024-12-17T00:00:00.000000000",
          "2024-12-16T00:00:00.000000000",
          "2024-12-13T00:00:00.000000000",
          "2024-12-12T00:00:00.000000000",
          "2024-12-11T00:00:00.000000000",
          "2024-12-10T00:00:00.000000000",
          "2024-12-09T00:00:00.000000000",
          "2024-12-06T00:00:00.000000000",
          "2024-12-05T00:00:00.000000000",
          "2024-12-04T00:00:00.000000000",
          "2024-12-03T00:00:00.000000000",
          "2024-12-02T00:00:00.000000000",
          "2024-11-29T00:00:00.000000000",
          "2024-11-27T00:00:00.000000000",
          "2024-11-26T00:00:00.000000000",
          "2024-11-25T00:00:00.000000000",
          "2024-11-22T00:00:00.000000000",
          "2024-11-21T00:00:00.000000000"
         ]
        }
       ],
       "layout": {
        "height": 800,
        "template": {
         "data": {
          "bar": [
           {
            "error_x": {
             "color": "#2a3f5f"
            },
            "error_y": {
             "color": "#2a3f5f"
            },
            "marker": {
             "line": {
              "color": "#E5ECF6",
              "width": 0.5
             },
             "pattern": {
              "fillmode": "overlay",
              "size": 10,
              "solidity": 0.2
             }
            },
            "type": "bar"
           }
          ],
          "barpolar": [
           {
            "marker": {
             "line": {
              "color": "#E5ECF6",
              "width": 0.5
             },
             "pattern": {
              "fillmode": "overlay",
              "size": 10,
              "solidity": 0.2
             }
            },
            "type": "barpolar"
           }
          ],
          "carpet": [
           {
            "aaxis": {
             "endlinecolor": "#2a3f5f",
             "gridcolor": "white",
             "linecolor": "white",
             "minorgridcolor": "white",
             "startlinecolor": "#2a3f5f"
            },
            "baxis": {
             "endlinecolor": "#2a3f5f",
             "gridcolor": "white",
             "linecolor": "white",
             "minorgridcolor": "white",
             "startlinecolor": "#2a3f5f"
            },
            "type": "carpet"
           }
          ],
          "choropleth": [
           {
            "colorbar": {
             "outlinewidth": 0,
             "ticks": ""
            },
            "type": "choropleth"
           }
          ],
          "contour": [
           {
            "colorbar": {
             "outlinewidth": 0,
             "ticks": ""
            },
            "colorscale": [
             [
              0,
              "#0d0887"
             ],
             [
              0.1111111111111111,
              "#46039f"
             ],
             [
              0.2222222222222222,
              "#7201a8"
             ],
             [
              0.3333333333333333,
              "#9c179e"
             ],
             [
              0.4444444444444444,
              "#bd3786"
             ],
             [
              0.5555555555555556,
              "#d8576b"
             ],
             [
              0.6666666666666666,
              "#ed7953"
             ],
             [
              0.7777777777777778,
              "#fb9f3a"
             ],
             [
              0.8888888888888888,
              "#fdca26"
             ],
             [
              1,
              "#f0f921"
             ]
            ],
            "type": "contour"
           }
          ],
          "contourcarpet": [
           {
            "colorbar": {
             "outlinewidth": 0,
             "ticks": ""
            },
            "type": "contourcarpet"
           }
          ],
          "heatmap": [
           {
            "colorbar": {
             "outlinewidth": 0,
             "ticks": ""
            },
            "colorscale": [
             [
              0,
              "#0d0887"
             ],
             [
              0.1111111111111111,
              "#46039f"
             ],
             [
              0.2222222222222222,
              "#7201a8"
             ],
             [
              0.3333333333333333,
              "#9c179e"
             ],
             [
              0.4444444444444444,
              "#bd3786"
             ],
             [
              0.5555555555555556,
              "#d8576b"
             ],
             [
              0.6666666666666666,
              "#ed7953"
             ],
             [
              0.7777777777777778,
              "#fb9f3a"
             ],
             [
              0.8888888888888888,
              "#fdca26"
             ],
             [
              1,
              "#f0f921"
             ]
            ],
            "type": "heatmap"
           }
          ],
          "histogram": [
           {
            "marker": {
             "pattern": {
              "fillmode": "overlay",
              "size": 10,
              "solidity": 0.2
             }
            },
            "type": "histogram"
           }
          ],
          "histogram2d": [
           {
            "colorbar": {
             "outlinewidth": 0,
             "ticks": ""
            },
            "colorscale": [
             [
              0,
              "#0d0887"
             ],
             [
              0.1111111111111111,
              "#46039f"
             ],
             [
              0.2222222222222222,
              "#7201a8"
             ],
             [
              0.3333333333333333,
              "#9c179e"
             ],
             [
              0.4444444444444444,
              "#bd3786"
             ],
             [
              0.5555555555555556,
              "#d8576b"
             ],
             [
              0.6666666666666666,
              "#ed7953"
             ],
             [
              0.7777777777777778,
              "#fb9f3a"
             ],
             [
              0.8888888888888888,
              "#fdca26"
             ],
             [
              1,
              "#f0f921"
             ]
            ],
            "type": "histogram2d"
           }
          ],
          "histogram2dcontour": [
           {
            "colorbar": {
             "outlinewidth": 0,
             "ticks": ""
            },
            "colorscale": [
             [
              0,
              "#0d0887"
             ],
             [
              0.1111111111111111,
              "#46039f"
             ],
             [
              0.2222222222222222,
              "#7201a8"
             ],
             [
              0.3333333333333333,
              "#9c179e"
             ],
             [
              0.4444444444444444,
              "#bd3786"
             ],
             [
              0.5555555555555556,
              "#d8576b"
             ],
             [
              0.6666666666666666,
              "#ed7953"
             ],
             [
              0.7777777777777778,
              "#fb9f3a"
             ],
             [
              0.8888888888888888,
              "#fdca26"
             ],
             [
              1,
              "#f0f921"
             ]
            ],
            "type": "histogram2dcontour"
           }
          ],
          "mesh3d": [
           {
            "colorbar": {
             "outlinewidth": 0,
             "ticks": ""
            },
            "type": "mesh3d"
           }
          ],
          "parcoords": [
           {
            "line": {
             "colorbar": {
              "outlinewidth": 0,
              "ticks": ""
             }
            },
            "type": "parcoords"
           }
          ],
          "pie": [
           {
            "automargin": true,
            "type": "pie"
           }
          ],
          "scatter": [
           {
            "fillpattern": {
             "fillmode": "overlay",
             "size": 10,
             "solidity": 0.2
            },
            "type": "scatter"
           }
          ],
          "scatter3d": [
           {
            "line": {
             "colorbar": {
              "outlinewidth": 0,
              "ticks": ""
             }
            },
            "marker": {
             "colorbar": {
              "outlinewidth": 0,
              "ticks": ""
             }
            },
            "type": "scatter3d"
           }
          ],
          "scattercarpet": [
           {
            "marker": {
             "colorbar": {
              "outlinewidth": 0,
              "ticks": ""
             }
            },
            "type": "scattercarpet"
           }
          ],
          "scattergeo": [
           {
            "marker": {
             "colorbar": {
              "outlinewidth": 0,
              "ticks": ""
             }
            },
            "type": "scattergeo"
           }
          ],
          "scattergl": [
           {
            "marker": {
             "colorbar": {
              "outlinewidth": 0,
              "ticks": ""
             }
            },
            "type": "scattergl"
           }
          ],
          "scattermap": [
           {
            "marker": {
             "colorbar": {
              "outlinewidth": 0,
              "ticks": ""
             }
            },
            "type": "scattermap"
           }
          ],
          "scattermapbox": [
           {
            "marker": {
             "colorbar": {
              "outlinewidth": 0,
              "ticks": ""
             }
            },
            "type": "scattermapbox"
           }
          ],
          "scatterpolar": [
           {
            "marker": {
             "colorbar": {
              "outlinewidth": 0,
              "ticks": ""
             }
            },
            "type": "scatterpolar"
           }
          ],
          "scatterpolargl": [
           {
            "marker": {
             "colorbar": {
              "outlinewidth": 0,
              "ticks": ""
             }
            },
            "type": "scatterpolargl"
           }
          ],
          "scatterternary": [
           {
            "marker": {
             "colorbar": {
              "outlinewidth": 0,
              "ticks": ""
             }
            },
            "type": "scatterternary"
           }
          ],
          "surface": [
           {
            "colorbar": {
             "outlinewidth": 0,
             "ticks": ""
            },
            "colorscale": [
             [
              0,
              "#0d0887"
             ],
             [
              0.1111111111111111,
              "#46039f"
             ],
             [
              0.2222222222222222,
              "#7201a8"
             ],
             [
              0.3333333333333333,
              "#9c179e"
             ],
             [
              0.4444444444444444,
              "#bd3786"
             ],
             [
              0.5555555555555556,
              "#d8576b"
             ],
             [
              0.6666666666666666,
              "#ed7953"
             ],
             [
              0.7777777777777778,
              "#fb9f3a"
             ],
             [
              0.8888888888888888,
              "#fdca26"
             ],
             [
              1,
              "#f0f921"
             ]
            ],
            "type": "surface"
           }
          ],
          "table": [
           {
            "cells": {
             "fill": {
              "color": "#EBF0F8"
             },
             "line": {
              "color": "white"
             }
            },
            "header": {
             "fill": {
              "color": "#C8D4E3"
             },
             "line": {
              "color": "white"
             }
            },
            "type": "table"
           }
          ]
         },
         "layout": {
          "annotationdefaults": {
           "arrowcolor": "#2a3f5f",
           "arrowhead": 0,
           "arrowwidth": 1
          },
          "autotypenumbers": "strict",
          "coloraxis": {
           "colorbar": {
            "outlinewidth": 0,
            "ticks": ""
           }
          },
          "colorscale": {
           "diverging": [
            [
             0,
             "#8e0152"
            ],
            [
             0.1,
             "#c51b7d"
            ],
            [
             0.2,
             "#de77ae"
            ],
            [
             0.3,
             "#f1b6da"
            ],
            [
             0.4,
             "#fde0ef"
            ],
            [
             0.5,
             "#f7f7f7"
            ],
            [
             0.6,
             "#e6f5d0"
            ],
            [
             0.7,
             "#b8e186"
            ],
            [
             0.8,
             "#7fbc41"
            ],
            [
             0.9,
             "#4d9221"
            ],
            [
             1,
             "#276419"
            ]
           ],
           "sequential": [
            [
             0,
             "#0d0887"
            ],
            [
             0.1111111111111111,
             "#46039f"
            ],
            [
             0.2222222222222222,
             "#7201a8"
            ],
            [
             0.3333333333333333,
             "#9c179e"
            ],
            [
             0.4444444444444444,
             "#bd3786"
            ],
            [
             0.5555555555555556,
             "#d8576b"
            ],
            [
             0.6666666666666666,
             "#ed7953"
            ],
            [
             0.7777777777777778,
             "#fb9f3a"
            ],
            [
             0.8888888888888888,
             "#fdca26"
            ],
            [
             1,
             "#f0f921"
            ]
           ],
           "sequentialminus": [
            [
             0,
             "#0d0887"
            ],
            [
             0.1111111111111111,
             "#46039f"
            ],
            [
             0.2222222222222222,
             "#7201a8"
            ],
            [
             0.3333333333333333,
             "#9c179e"
            ],
            [
             0.4444444444444444,
             "#bd3786"
            ],
            [
             0.5555555555555556,
             "#d8576b"
            ],
            [
             0.6666666666666666,
             "#ed7953"
            ],
            [
             0.7777777777777778,
             "#fb9f3a"
            ],
            [
             0.8888888888888888,
             "#fdca26"
            ],
            [
             1,
             "#f0f921"
            ]
           ]
          },
          "colorway": [
           "#636efa",
           "#EF553B",
           "#00cc96",
           "#ab63fa",
           "#FFA15A",
           "#19d3f3",
           "#FF6692",
           "#B6E880",
           "#FF97FF",
           "#FECB52"
          ],
          "font": {
           "color": "#2a3f5f"
          },
          "geo": {
           "bgcolor": "white",
           "lakecolor": "white",
           "landcolor": "#E5ECF6",
           "showlakes": true,
           "showland": true,
           "subunitcolor": "white"
          },
          "hoverlabel": {
           "align": "left"
          },
          "hovermode": "closest",
          "mapbox": {
           "style": "light"
          },
          "paper_bgcolor": "white",
          "plot_bgcolor": "#E5ECF6",
          "polar": {
           "angularaxis": {
            "gridcolor": "white",
            "linecolor": "white",
            "ticks": ""
           },
           "bgcolor": "#E5ECF6",
           "radialaxis": {
            "gridcolor": "white",
            "linecolor": "white",
            "ticks": ""
           }
          },
          "scene": {
           "xaxis": {
            "backgroundcolor": "#E5ECF6",
            "gridcolor": "white",
            "gridwidth": 2,
            "linecolor": "white",
            "showbackground": true,
            "ticks": "",
            "zerolinecolor": "white"
           },
           "yaxis": {
            "backgroundcolor": "#E5ECF6",
            "gridcolor": "white",
            "gridwidth": 2,
            "linecolor": "white",
            "showbackground": true,
            "ticks": "",
            "zerolinecolor": "white"
           },
           "zaxis": {
            "backgroundcolor": "#E5ECF6",
            "gridcolor": "white",
            "gridwidth": 2,
            "linecolor": "white",
            "showbackground": true,
            "ticks": "",
            "zerolinecolor": "white"
           }
          },
          "shapedefaults": {
           "line": {
            "color": "#2a3f5f"
           }
          },
          "ternary": {
           "aaxis": {
            "gridcolor": "white",
            "linecolor": "white",
            "ticks": ""
           },
           "baxis": {
            "gridcolor": "white",
            "linecolor": "white",
            "ticks": ""
           },
           "bgcolor": "#E5ECF6",
           "caxis": {
            "gridcolor": "white",
            "linecolor": "white",
            "ticks": ""
           }
          },
          "title": {
           "x": 0.05
          },
          "xaxis": {
           "automargin": true,
           "gridcolor": "white",
           "linecolor": "white",
           "ticks": "",
           "title": {
            "standoff": 15
           },
           "zerolinecolor": "white",
           "zerolinewidth": 2
          },
          "yaxis": {
           "automargin": true,
           "gridcolor": "white",
           "linecolor": "white",
           "ticks": "",
           "title": {
            "standoff": 15
           },
           "zerolinecolor": "white",
           "zerolinewidth": 2
          }
         }
        },
        "width": 1200
       }
      }
     },
     "metadata": {},
     "output_type": "display_data"
    }
   ],
   "source": [
    "fig2 = client.candlestick_chart(df2)\n",
    "fig2.show()"
   ]
  },
  {
   "cell_type": "code",
   "execution_count": 39,
   "id": "cc62c660",
   "metadata": {},
   "outputs": [
    {
     "data": {
      "text/plain": [
       "{'HDB': ['HDFC Bank Ltd', 'United States', 'USD'],\n",
       " 'HDFCBANK.BSE': ['HDFC Bank Limited', 'India/Bombay', 'INR'],\n",
       " 'H1DB34.SAO': ['HDFC Bank Limited', 'Brazil/Sao Paolo', 'BRL'],\n",
       " 'HDFA.FRK': ['HDFC Bank Limited', 'Frankfurt', 'EUR']}"
      ]
     },
     "execution_count": 39,
     "metadata": {},
     "output_type": "execute_result"
    }
   ],
   "source": [
    "# GET DETAIL FOR HDFC BANK INDIA \n",
    "client.symbol_search(\"HDFC Bank\")"
   ]
  },
  {
   "cell_type": "code",
   "execution_count": 40,
   "id": "42551138",
   "metadata": {},
   "outputs": [
    {
     "data": {
      "text/html": [
       "<div>\n",
       "<style scoped>\n",
       "    .dataframe tbody tr th:only-of-type {\n",
       "        vertical-align: middle;\n",
       "    }\n",
       "\n",
       "    .dataframe tbody tr th {\n",
       "        vertical-align: top;\n",
       "    }\n",
       "\n",
       "    .dataframe thead th {\n",
       "        text-align: right;\n",
       "    }\n",
       "</style>\n",
       "<table border=\"1\" class=\"dataframe\">\n",
       "  <thead>\n",
       "    <tr style=\"text-align: right;\">\n",
       "      <th></th>\n",
       "      <th>1. open</th>\n",
       "      <th>2. high</th>\n",
       "      <th>3. low</th>\n",
       "      <th>4. close</th>\n",
       "      <th>5. volume</th>\n",
       "    </tr>\n",
       "    <tr>\n",
       "      <th>Date</th>\n",
       "      <th></th>\n",
       "      <th></th>\n",
       "      <th></th>\n",
       "      <th></th>\n",
       "      <th></th>\n",
       "    </tr>\n",
       "  </thead>\n",
       "  <tbody>\n",
       "    <tr>\n",
       "      <th>2025-04-17</th>\n",
       "      <td>1879.05</td>\n",
       "      <td>1919.35</td>\n",
       "      <td>1877.75</td>\n",
       "      <td>1906.55</td>\n",
       "      <td>408716.0</td>\n",
       "    </tr>\n",
       "    <tr>\n",
       "      <th>2025-04-16</th>\n",
       "      <td>1882.00</td>\n",
       "      <td>1882.05</td>\n",
       "      <td>1861.00</td>\n",
       "      <td>1877.90</td>\n",
       "      <td>358007.0</td>\n",
       "    </tr>\n",
       "    <tr>\n",
       "      <th>2025-04-15</th>\n",
       "      <td>1870.15</td>\n",
       "      <td>1875.90</td>\n",
       "      <td>1854.45</td>\n",
       "      <td>1864.90</td>\n",
       "      <td>1027801.0</td>\n",
       "    </tr>\n",
       "    <tr>\n",
       "      <th>2025-04-11</th>\n",
       "      <td>1774.00</td>\n",
       "      <td>1818.95</td>\n",
       "      <td>1774.00</td>\n",
       "      <td>1806.60</td>\n",
       "      <td>344590.0</td>\n",
       "    </tr>\n",
       "    <tr>\n",
       "      <th>2025-04-09</th>\n",
       "      <td>1767.75</td>\n",
       "      <td>1773.40</td>\n",
       "      <td>1753.45</td>\n",
       "      <td>1765.50</td>\n",
       "      <td>280853.0</td>\n",
       "    </tr>\n",
       "    <tr>\n",
       "      <th>...</th>\n",
       "      <td>...</td>\n",
       "      <td>...</td>\n",
       "      <td>...</td>\n",
       "      <td>...</td>\n",
       "      <td>...</td>\n",
       "    </tr>\n",
       "    <tr>\n",
       "      <th>2024-11-28</th>\n",
       "      <td>1818.00</td>\n",
       "      <td>1836.05</td>\n",
       "      <td>1788.00</td>\n",
       "      <td>1792.90</td>\n",
       "      <td>215760.0</td>\n",
       "    </tr>\n",
       "    <tr>\n",
       "      <th>2024-11-27</th>\n",
       "      <td>1787.15</td>\n",
       "      <td>1817.20</td>\n",
       "      <td>1785.30</td>\n",
       "      <td>1811.00</td>\n",
       "      <td>220040.0</td>\n",
       "    </tr>\n",
       "    <tr>\n",
       "      <th>2024-11-26</th>\n",
       "      <td>1800.00</td>\n",
       "      <td>1804.10</td>\n",
       "      <td>1770.00</td>\n",
       "      <td>1785.40</td>\n",
       "      <td>223498.0</td>\n",
       "    </tr>\n",
       "    <tr>\n",
       "      <th>2024-11-25</th>\n",
       "      <td>1779.00</td>\n",
       "      <td>1801.90</td>\n",
       "      <td>1765.00</td>\n",
       "      <td>1784.60</td>\n",
       "      <td>1236300.0</td>\n",
       "    </tr>\n",
       "    <tr>\n",
       "      <th>2024-11-22</th>\n",
       "      <td>1740.15</td>\n",
       "      <td>1753.80</td>\n",
       "      <td>1729.30</td>\n",
       "      <td>1745.95</td>\n",
       "      <td>437651.0</td>\n",
       "    </tr>\n",
       "  </tbody>\n",
       "</table>\n",
       "<p>100 rows × 5 columns</p>\n",
       "</div>"
      ],
      "text/plain": [
       "            1. open  2. high   3. low  4. close  5. volume\n",
       "Date                                                      \n",
       "2025-04-17  1879.05  1919.35  1877.75   1906.55   408716.0\n",
       "2025-04-16  1882.00  1882.05  1861.00   1877.90   358007.0\n",
       "2025-04-15  1870.15  1875.90  1854.45   1864.90  1027801.0\n",
       "2025-04-11  1774.00  1818.95  1774.00   1806.60   344590.0\n",
       "2025-04-09  1767.75  1773.40  1753.45   1765.50   280853.0\n",
       "...             ...      ...      ...       ...        ...\n",
       "2024-11-28  1818.00  1836.05  1788.00   1792.90   215760.0\n",
       "2024-11-27  1787.15  1817.20  1785.30   1811.00   220040.0\n",
       "2024-11-26  1800.00  1804.10  1770.00   1785.40   223498.0\n",
       "2024-11-25  1779.00  1801.90  1765.00   1784.60  1236300.0\n",
       "2024-11-22  1740.15  1753.80  1729.30   1745.95   437651.0\n",
       "\n",
       "[100 rows x 5 columns]"
      ]
     },
     "execution_count": 40,
     "metadata": {},
     "output_type": "execute_result"
    }
   ],
   "source": [
    "df3 = client.get_daily_data(\"HDFCBANK.BSE\")\n",
    "df3"
   ]
  },
  {
   "cell_type": "code",
   "execution_count": 41,
   "id": "0a3a66ca",
   "metadata": {},
   "outputs": [],
   "source": [
    "df3.to_csv(\"HDFC.csv\")"
   ]
  },
  {
   "cell_type": "code",
   "execution_count": 42,
   "id": "52599fd5",
   "metadata": {},
   "outputs": [
    {
     "data": {
      "application/vnd.plotly.v1+json": {
       "config": {
        "plotlyServerURL": "https://plot.ly"
       },
       "data": [
        {
         "close": {
          "bdata": "MzMzMzPKnUCamZmZmVedQJqZmZmZI51AZmZmZmY6nEAAAAAAAJabQGZmZmZmpJtAmpmZmZl4m0AAAAAAAGScQM3MzMzMBpxAmpmZmZkVnEAzMzMzM52bQAAAAAAAkpxAAAAAAACFnEDNzMzMzDecQM3MzMzMdZxAmpmZmZkknEBmZmZmZqebQDMzMzMznZtAZmZmZmY/m0CamZmZmRSbQJqZmZmZt5pAMzMzMzOnmkBmZmZmZr+aQM3MzMzMU5pAMzMzMzNcmkBmZmZmZmWaQAAAAAAAZ5pAAAAAAABnmkCamZmZmbyaQAAAAAAAlZpAZmZmZmYMm0DNzMzMzI2aQGZmZmZmTppAAAAAAAAvmkAzMzMzM26aQJqZmZmZWZpAzczMzMz7mkAAAAAAAOqaQAAAAAAA1ZpAAAAAAAB8mkAAAAAAAIeaQDMzMzMzrJpAmpmZmZmPmkCamZmZmc2aQGZmZmZmEJtAzczMzMxCm0AAAAAAACabQAAAAAAA6ZpAmpmZmZlAmkBmZmZmZmeaQAAAAAAAjZpAZmZmZmZwmkBmZmZmZjSaQDMzMzMzGppAzczMzMx2mUAzMzMzM8aZQDMzMzMzA5pAMzMzMzMEmkAAAAAAAKeZQAAAAAAAzZlAzczMzMySmUAAAAAAANOZQAAAAAAAq5lAAAAAAACxmUBmZmZmZniZQJqZmZmZ5JlAAAAAAAAPmkCamZmZmXiaQGZmZmZmyJpAMzMzMzO5mkAzMzMzM1WbQGZmZmZmBZxAzczMzMzZm0DNzMzMzLGbQM3MzMzMyptAZmZmZmYXnEAAAAAAAP+bQJqZmZmZFpxAAAAAAAAknEAzMzMzM7CbQM3MzMzMBZxAzczMzMxMnEBmZmZmZqOcQDMzMzMzI51AMzMzMzNAnUDNzMzMzAudQM3MzMzMHp1AMzMzMzMwnUAzMzMzMzedQAAAAAAAAp1AMzMzMzMfnUAzMzMzMxCdQGZmZmZmi5xAMzMzMzMynECamZmZmRacQJqZmZmZA5xAAAAAAABMnECamZmZmeWbQGZmZmZm4ptAzczMzMxHm0A=",
          "dtype": "f8"
         },
         "high": {
          "bdata": "ZmZmZmb9nUAzMzMzM2idQJqZmZmZT51AzczMzMxrnECamZmZmbWbQAAAAAAA2JtAZmZmZmbOm0DNzMzMzMicQGZmZmZmL5xAMzMzMzMdnEAAAAAAAEicQJqZmZmZsZxAAAAAAADCnEAAAAAAAI6cQJqZmZmZz5xAAAAAAAAwnEDNzMzMzLebQAAAAAAAtZtAZmZmZmZZm0AAAAAAACabQAAAAAAA8JpAAAAAAADimkAAAAAAANyaQJqZmZmZeZpAmpmZmZmNmkCamZmZmZOaQAAAAAAAkJpAmpmZmZm6mkDNzMzMzMqaQAAAAAAAPJtAMzMzMzMjm0AAAAAAALiaQAAAAAAAYJpAAAAAAABSmkAzMzMzM3uaQGZmZmZmzJpAmpmZmZknm0BmZmZmZg6bQAAAAAAA4JpAZmZmZmaRmkAAAAAAAMiaQGZmZmZmvppAMzMzMzO6mkAAAAAAAO+aQJqZmZmZnZtAzczMzMxNm0AAAAAAAECbQAAAAAAA+JpAmpmZmZlamkBmZmZmZsKaQAAAAAAAn5pAMzMzMzOBmkAzMzMzM0WaQAAAAAAAUJpAZmZmZmammUCamZmZmRqaQAAAAAAAVJpAZmZmZmYfmkDNzMzMzPGZQAAAAAAA85lAmpmZmZnImUAAAAAAAPCZQJqZmZmZ+plAAAAAAADhmUDNzMzMzLmZQAAAAAAALJpAmpmZmZlmmkAzMzMzM8CaQM3MzMzM5ZpAzczMzMx1m0AzMzMzMwucQAAAAAAALJxAmpmZmZkJnEBmZmZmZtWbQAAAAAAAXJxAAAAAAAAsnECamZmZmU2cQJqZmZmZOJxAmpmZmZk3nEBmZmZmZhWcQM3MzMzMIJxAmpmZmZmunEAAAAAAABmdQAAAAAAAOJ1AMzMzMzNKnUCamZmZmTKdQDMzMzMzPJ1AAAAAAABMnUAAAAAAAGCdQJqZmZmZIJ1AAAAAAABcnUAAAAAAACSdQAAAAAAAtJxAAAAAAABAnEAAAAAAADGcQDMzMzMzsJxAzczMzMxknEBmZmZmZjCcQJqZmZmZJ5xAMzMzMzNnm0A=",
          "dtype": "f8"
         },
         "low": {
          "bdata": "AAAAAABXnUAAAAAAABSdQM3MzMzM+ZxAAAAAAAC4m0DNzMzMzGWbQGZmZmZmWptAMzMzMzMom0DNzMzMzD+cQM3MzMzMwptAMzMzMzOdm0AAAAAAAJSbQAAAAAAAO5xAzczMzMwanEAAAAAAACqcQAAAAAAAJZxAzczMzMy1m0AzMzMzM1abQJqZmZmZVJtAAAAAAAAQm0AAAAAAAM6aQJqZmZmZpZpAAAAAAACQmkBmZmZmZmOaQDMzMzMzGZpAAAAAAABMmkBmZmZmZjWaQGZmZmZmIppAMzMzMzNhmkDNzMzMzHmaQJqZmZmZeJpAMzMzMzNFmkAzMzMzM06aQAAAAAAAIJpAZmZmZmb2mUAzMzMzMzeaQAAAAAAAVJpAMzMzMzPEmkBmZmZmZqmaQDMzMzMzRJpAMzMzMzM+mkCamZmZmXaaQDMzMzMzRppAzczMzMxgmkCamZmZmbOaQGZmZmZm9JpAMzMzMzPwmkDNzMzMzNqaQM3MzMzMQJpAMzMzMzMEmkAAAAAAADGaQDMzMzMzUJpAMzMzMzMmmkBmZmZmZhOaQAAAAAAAsJlAmpmZmZlpmUAAAAAAALSZQAAAAAAAz5lAMzMzMzNlmUAAAAAAAIOZQAAAAAAAcJlAAAAAAABzmUAAAAAAAK2ZQAAAAAAAkZlAAAAAAACMmUAAAAAAAGGZQJqZmZmZ2JlAZmZmZmbrmUAAAAAAAEyaQAAAAAAAkJpAAAAAAACkmkAzMzMzM0mbQGZmZmZmuJtAAAAAAACIm0AAAAAAAKCbQGZmZmZmrZtAAAAAAAD2m0AAAAAAANebQGZmZmZm9JtAAAAAAADQm0CamZmZmZubQAAAAAAAzJtAzczMzMw9nEBmZmZmZomcQGZmZmZm/JxAAAAAAACUnEBmZmZmZuWcQAAAAAAABJ1AmpmZmZkKnUAzMzMzM+acQM3MzMzMzpxAmpmZmZmvnEDNzMzMzJycQJqZmZmZYZxAAAAAAAC8m0BmZmZmZtybQAAAAAAA8JtAMzMzMzPlm0AAAAAAAKibQAAAAAAAlJtAMzMzMzMFm0A=",
          "dtype": "f8"
         },
         "open": {
          "bdata": "MzMzMzNcnUAAAAAAAGidQJqZmZmZOJ1AAAAAAAC4m0AAAAAAAJ+bQGZmZmZmkJtAAAAAAACAm0AAAAAAAECcQDMzMzMzzJtAMzMzMzOdm0AAAAAAACCcQAAAAAAAmJxAAAAAAAAenEAAAAAAAICcQAAAAAAAJZxAAAAAAADQm0AzMzMzM1abQM3MzMzMWJtAAAAAAAAYm0AAAAAAAPGaQDMzMzMzp5pAmpmZmZnLmkBmZmZmZmOaQDMzMzMzUZpAZmZmZmZhmkDNzMzMzFuaQM3MzMzMY5pAAAAAAACkmkAAAAAAAIyaQAAAAAAAHZtAMzMzMzNFmkAzMzMzM06aQAAAAAAAIJpAZmZmZmZAmkCamZmZmUyaQDMzMzMzzJpAmpmZmZnamkAAAAAAAMyaQDMzMzMzWJpAMzMzMzOQmkDNzMzMzI+aQAAAAAAAbJpAAAAAAAComkAzMzMzM82aQDMzMzMzWptAZmZmZmYdm0AzMzMzMwybQAAAAAAAaJpAAAAAAAAYmkAzMzMzM4SaQM3MzMzMY5pAZmZmZmY1mkAAAAAAACyaQAAAAAAAsJlAAAAAAACgmUDNzMzMzP+ZQM3MzMzMSppAzczMzMyzmUAAAAAAAPCZQM3MzMzMg5lAzczMzMyzmUAAAAAAAN+ZQAAAAAAA6JlAAAAAAACMmUAAAAAAAKCZQAAAAAAAGJpAmpmZmZlmmkAAAAAAALyaQGZmZmZmuZpAmpmZmZkvm0AzMzMzMwucQAAAAAAA0ptAAAAAAAC8m0AzMzMzM6ibQM3MzMzMC5xAAAAAAAD5m0AAAAAAABacQM3MzMzML5xAAAAAAADQm0DNzMzMzO+bQDMzMzMzDJxAAAAAAACinEAzMzMzMwCdQAAAAAAAHJ1AzczMzMz8nEDNzMzMzOecQAAAAAAAJJ1AAAAAAAA5nUAzMzMzM/ScQAAAAAAAD51AAAAAAAAYnUAAAAAAALicQJqZmZmZb5xAmpmZmZkWnEAzMzMzMwicQAAAAAAAaJxAmpmZmZnsm0AAAAAAACCcQAAAAAAAzJtAmpmZmZkwm0A=",
          "dtype": "f8"
         },
         "type": "candlestick",
         "x": [
          "2025-04-17T00:00:00.000000000",
          "2025-04-16T00:00:00.000000000",
          "2025-04-15T00:00:00.000000000",
          "2025-04-11T00:00:00.000000000",
          "2025-04-09T00:00:00.000000000",
          "2025-04-08T00:00:00.000000000",
          "2025-04-07T00:00:00.000000000",
          "2025-04-04T00:00:00.000000000",
          "2025-04-03T00:00:00.000000000",
          "2025-04-02T00:00:00.000000000",
          "2025-04-01T00:00:00.000000000",
          "2025-03-28T00:00:00.000000000",
          "2025-03-27T00:00:00.000000000",
          "2025-03-26T00:00:00.000000000",
          "2025-03-25T00:00:00.000000000",
          "2025-03-24T00:00:00.000000000",
          "2025-03-21T00:00:00.000000000",
          "2025-03-20T00:00:00.000000000",
          "2025-03-19T00:00:00.000000000",
          "2025-03-18T00:00:00.000000000",
          "2025-03-17T00:00:00.000000000",
          "2025-03-13T00:00:00.000000000",
          "2025-03-12T00:00:00.000000000",
          "2025-03-11T00:00:00.000000000",
          "2025-03-10T00:00:00.000000000",
          "2025-03-07T00:00:00.000000000",
          "2025-03-06T00:00:00.000000000",
          "2025-03-05T00:00:00.000000000",
          "2025-03-04T00:00:00.000000000",
          "2025-03-03T00:00:00.000000000",
          "2025-02-28T00:00:00.000000000",
          "2025-02-27T00:00:00.000000000",
          "2025-02-25T00:00:00.000000000",
          "2025-02-24T00:00:00.000000000",
          "2025-02-21T00:00:00.000000000",
          "2025-02-20T00:00:00.000000000",
          "2025-02-19T00:00:00.000000000",
          "2025-02-18T00:00:00.000000000",
          "2025-02-17T00:00:00.000000000",
          "2025-02-14T00:00:00.000000000",
          "2025-02-13T00:00:00.000000000",
          "2025-02-12T00:00:00.000000000",
          "2025-02-11T00:00:00.000000000",
          "2025-02-10T00:00:00.000000000",
          "2025-02-07T00:00:00.000000000",
          "2025-02-06T00:00:00.000000000",
          "2025-02-05T00:00:00.000000000",
          "2025-02-04T00:00:00.000000000",
          "2025-02-03T00:00:00.000000000",
          "2025-02-01T00:00:00.000000000",
          "2025-01-31T00:00:00.000000000",
          "2025-01-30T00:00:00.000000000",
          "2025-01-29T00:00:00.000000000",
          "2025-01-28T00:00:00.000000000",
          "2025-01-27T00:00:00.000000000",
          "2025-01-24T00:00:00.000000000",
          "2025-01-23T00:00:00.000000000",
          "2025-01-22T00:00:00.000000000",
          "2025-01-21T00:00:00.000000000",
          "2025-01-20T00:00:00.000000000",
          "2025-01-17T00:00:00.000000000",
          "2025-01-16T00:00:00.000000000",
          "2025-01-15T00:00:00.000000000",
          "2025-01-14T00:00:00.000000000",
          "2025-01-13T00:00:00.000000000",
          "2025-01-10T00:00:00.000000000",
          "2025-01-09T00:00:00.000000000",
          "2025-01-08T00:00:00.000000000",
          "2025-01-07T00:00:00.000000000",
          "2025-01-06T00:00:00.000000000",
          "2025-01-03T00:00:00.000000000",
          "2025-01-02T00:00:00.000000000",
          "2025-01-01T00:00:00.000000000",
          "2024-12-31T00:00:00.000000000",
          "2024-12-30T00:00:00.000000000",
          "2024-12-27T00:00:00.000000000",
          "2024-12-26T00:00:00.000000000",
          "2024-12-24T00:00:00.000000000",
          "2024-12-23T00:00:00.000000000",
          "2024-12-20T00:00:00.000000000",
          "2024-12-19T00:00:00.000000000",
          "2024-12-18T00:00:00.000000000",
          "2024-12-17T00:00:00.000000000",
          "2024-12-16T00:00:00.000000000",
          "2024-12-13T00:00:00.000000000",
          "2024-12-12T00:00:00.000000000",
          "2024-12-11T00:00:00.000000000",
          "2024-12-10T00:00:00.000000000",
          "2024-12-09T00:00:00.000000000",
          "2024-12-06T00:00:00.000000000",
          "2024-12-05T00:00:00.000000000",
          "2024-12-04T00:00:00.000000000",
          "2024-12-03T00:00:00.000000000",
          "2024-12-02T00:00:00.000000000",
          "2024-11-29T00:00:00.000000000",
          "2024-11-28T00:00:00.000000000",
          "2024-11-27T00:00:00.000000000",
          "2024-11-26T00:00:00.000000000",
          "2024-11-25T00:00:00.000000000",
          "2024-11-22T00:00:00.000000000"
         ]
        }
       ],
       "layout": {
        "height": 800,
        "template": {
         "data": {
          "bar": [
           {
            "error_x": {
             "color": "#2a3f5f"
            },
            "error_y": {
             "color": "#2a3f5f"
            },
            "marker": {
             "line": {
              "color": "#E5ECF6",
              "width": 0.5
             },
             "pattern": {
              "fillmode": "overlay",
              "size": 10,
              "solidity": 0.2
             }
            },
            "type": "bar"
           }
          ],
          "barpolar": [
           {
            "marker": {
             "line": {
              "color": "#E5ECF6",
              "width": 0.5
             },
             "pattern": {
              "fillmode": "overlay",
              "size": 10,
              "solidity": 0.2
             }
            },
            "type": "barpolar"
           }
          ],
          "carpet": [
           {
            "aaxis": {
             "endlinecolor": "#2a3f5f",
             "gridcolor": "white",
             "linecolor": "white",
             "minorgridcolor": "white",
             "startlinecolor": "#2a3f5f"
            },
            "baxis": {
             "endlinecolor": "#2a3f5f",
             "gridcolor": "white",
             "linecolor": "white",
             "minorgridcolor": "white",
             "startlinecolor": "#2a3f5f"
            },
            "type": "carpet"
           }
          ],
          "choropleth": [
           {
            "colorbar": {
             "outlinewidth": 0,
             "ticks": ""
            },
            "type": "choropleth"
           }
          ],
          "contour": [
           {
            "colorbar": {
             "outlinewidth": 0,
             "ticks": ""
            },
            "colorscale": [
             [
              0,
              "#0d0887"
             ],
             [
              0.1111111111111111,
              "#46039f"
             ],
             [
              0.2222222222222222,
              "#7201a8"
             ],
             [
              0.3333333333333333,
              "#9c179e"
             ],
             [
              0.4444444444444444,
              "#bd3786"
             ],
             [
              0.5555555555555556,
              "#d8576b"
             ],
             [
              0.6666666666666666,
              "#ed7953"
             ],
             [
              0.7777777777777778,
              "#fb9f3a"
             ],
             [
              0.8888888888888888,
              "#fdca26"
             ],
             [
              1,
              "#f0f921"
             ]
            ],
            "type": "contour"
           }
          ],
          "contourcarpet": [
           {
            "colorbar": {
             "outlinewidth": 0,
             "ticks": ""
            },
            "type": "contourcarpet"
           }
          ],
          "heatmap": [
           {
            "colorbar": {
             "outlinewidth": 0,
             "ticks": ""
            },
            "colorscale": [
             [
              0,
              "#0d0887"
             ],
             [
              0.1111111111111111,
              "#46039f"
             ],
             [
              0.2222222222222222,
              "#7201a8"
             ],
             [
              0.3333333333333333,
              "#9c179e"
             ],
             [
              0.4444444444444444,
              "#bd3786"
             ],
             [
              0.5555555555555556,
              "#d8576b"
             ],
             [
              0.6666666666666666,
              "#ed7953"
             ],
             [
              0.7777777777777778,
              "#fb9f3a"
             ],
             [
              0.8888888888888888,
              "#fdca26"
             ],
             [
              1,
              "#f0f921"
             ]
            ],
            "type": "heatmap"
           }
          ],
          "histogram": [
           {
            "marker": {
             "pattern": {
              "fillmode": "overlay",
              "size": 10,
              "solidity": 0.2
             }
            },
            "type": "histogram"
           }
          ],
          "histogram2d": [
           {
            "colorbar": {
             "outlinewidth": 0,
             "ticks": ""
            },
            "colorscale": [
             [
              0,
              "#0d0887"
             ],
             [
              0.1111111111111111,
              "#46039f"
             ],
             [
              0.2222222222222222,
              "#7201a8"
             ],
             [
              0.3333333333333333,
              "#9c179e"
             ],
             [
              0.4444444444444444,
              "#bd3786"
             ],
             [
              0.5555555555555556,
              "#d8576b"
             ],
             [
              0.6666666666666666,
              "#ed7953"
             ],
             [
              0.7777777777777778,
              "#fb9f3a"
             ],
             [
              0.8888888888888888,
              "#fdca26"
             ],
             [
              1,
              "#f0f921"
             ]
            ],
            "type": "histogram2d"
           }
          ],
          "histogram2dcontour": [
           {
            "colorbar": {
             "outlinewidth": 0,
             "ticks": ""
            },
            "colorscale": [
             [
              0,
              "#0d0887"
             ],
             [
              0.1111111111111111,
              "#46039f"
             ],
             [
              0.2222222222222222,
              "#7201a8"
             ],
             [
              0.3333333333333333,
              "#9c179e"
             ],
             [
              0.4444444444444444,
              "#bd3786"
             ],
             [
              0.5555555555555556,
              "#d8576b"
             ],
             [
              0.6666666666666666,
              "#ed7953"
             ],
             [
              0.7777777777777778,
              "#fb9f3a"
             ],
             [
              0.8888888888888888,
              "#fdca26"
             ],
             [
              1,
              "#f0f921"
             ]
            ],
            "type": "histogram2dcontour"
           }
          ],
          "mesh3d": [
           {
            "colorbar": {
             "outlinewidth": 0,
             "ticks": ""
            },
            "type": "mesh3d"
           }
          ],
          "parcoords": [
           {
            "line": {
             "colorbar": {
              "outlinewidth": 0,
              "ticks": ""
             }
            },
            "type": "parcoords"
           }
          ],
          "pie": [
           {
            "automargin": true,
            "type": "pie"
           }
          ],
          "scatter": [
           {
            "fillpattern": {
             "fillmode": "overlay",
             "size": 10,
             "solidity": 0.2
            },
            "type": "scatter"
           }
          ],
          "scatter3d": [
           {
            "line": {
             "colorbar": {
              "outlinewidth": 0,
              "ticks": ""
             }
            },
            "marker": {
             "colorbar": {
              "outlinewidth": 0,
              "ticks": ""
             }
            },
            "type": "scatter3d"
           }
          ],
          "scattercarpet": [
           {
            "marker": {
             "colorbar": {
              "outlinewidth": 0,
              "ticks": ""
             }
            },
            "type": "scattercarpet"
           }
          ],
          "scattergeo": [
           {
            "marker": {
             "colorbar": {
              "outlinewidth": 0,
              "ticks": ""
             }
            },
            "type": "scattergeo"
           }
          ],
          "scattergl": [
           {
            "marker": {
             "colorbar": {
              "outlinewidth": 0,
              "ticks": ""
             }
            },
            "type": "scattergl"
           }
          ],
          "scattermap": [
           {
            "marker": {
             "colorbar": {
              "outlinewidth": 0,
              "ticks": ""
             }
            },
            "type": "scattermap"
           }
          ],
          "scattermapbox": [
           {
            "marker": {
             "colorbar": {
              "outlinewidth": 0,
              "ticks": ""
             }
            },
            "type": "scattermapbox"
           }
          ],
          "scatterpolar": [
           {
            "marker": {
             "colorbar": {
              "outlinewidth": 0,
              "ticks": ""
             }
            },
            "type": "scatterpolar"
           }
          ],
          "scatterpolargl": [
           {
            "marker": {
             "colorbar": {
              "outlinewidth": 0,
              "ticks": ""
             }
            },
            "type": "scatterpolargl"
           }
          ],
          "scatterternary": [
           {
            "marker": {
             "colorbar": {
              "outlinewidth": 0,
              "ticks": ""
             }
            },
            "type": "scatterternary"
           }
          ],
          "surface": [
           {
            "colorbar": {
             "outlinewidth": 0,
             "ticks": ""
            },
            "colorscale": [
             [
              0,
              "#0d0887"
             ],
             [
              0.1111111111111111,
              "#46039f"
             ],
             [
              0.2222222222222222,
              "#7201a8"
             ],
             [
              0.3333333333333333,
              "#9c179e"
             ],
             [
              0.4444444444444444,
              "#bd3786"
             ],
             [
              0.5555555555555556,
              "#d8576b"
             ],
             [
              0.6666666666666666,
              "#ed7953"
             ],
             [
              0.7777777777777778,
              "#fb9f3a"
             ],
             [
              0.8888888888888888,
              "#fdca26"
             ],
             [
              1,
              "#f0f921"
             ]
            ],
            "type": "surface"
           }
          ],
          "table": [
           {
            "cells": {
             "fill": {
              "color": "#EBF0F8"
             },
             "line": {
              "color": "white"
             }
            },
            "header": {
             "fill": {
              "color": "#C8D4E3"
             },
             "line": {
              "color": "white"
             }
            },
            "type": "table"
           }
          ]
         },
         "layout": {
          "annotationdefaults": {
           "arrowcolor": "#2a3f5f",
           "arrowhead": 0,
           "arrowwidth": 1
          },
          "autotypenumbers": "strict",
          "coloraxis": {
           "colorbar": {
            "outlinewidth": 0,
            "ticks": ""
           }
          },
          "colorscale": {
           "diverging": [
            [
             0,
             "#8e0152"
            ],
            [
             0.1,
             "#c51b7d"
            ],
            [
             0.2,
             "#de77ae"
            ],
            [
             0.3,
             "#f1b6da"
            ],
            [
             0.4,
             "#fde0ef"
            ],
            [
             0.5,
             "#f7f7f7"
            ],
            [
             0.6,
             "#e6f5d0"
            ],
            [
             0.7,
             "#b8e186"
            ],
            [
             0.8,
             "#7fbc41"
            ],
            [
             0.9,
             "#4d9221"
            ],
            [
             1,
             "#276419"
            ]
           ],
           "sequential": [
            [
             0,
             "#0d0887"
            ],
            [
             0.1111111111111111,
             "#46039f"
            ],
            [
             0.2222222222222222,
             "#7201a8"
            ],
            [
             0.3333333333333333,
             "#9c179e"
            ],
            [
             0.4444444444444444,
             "#bd3786"
            ],
            [
             0.5555555555555556,
             "#d8576b"
            ],
            [
             0.6666666666666666,
             "#ed7953"
            ],
            [
             0.7777777777777778,
             "#fb9f3a"
            ],
            [
             0.8888888888888888,
             "#fdca26"
            ],
            [
             1,
             "#f0f921"
            ]
           ],
           "sequentialminus": [
            [
             0,
             "#0d0887"
            ],
            [
             0.1111111111111111,
             "#46039f"
            ],
            [
             0.2222222222222222,
             "#7201a8"
            ],
            [
             0.3333333333333333,
             "#9c179e"
            ],
            [
             0.4444444444444444,
             "#bd3786"
            ],
            [
             0.5555555555555556,
             "#d8576b"
            ],
            [
             0.6666666666666666,
             "#ed7953"
            ],
            [
             0.7777777777777778,
             "#fb9f3a"
            ],
            [
             0.8888888888888888,
             "#fdca26"
            ],
            [
             1,
             "#f0f921"
            ]
           ]
          },
          "colorway": [
           "#636efa",
           "#EF553B",
           "#00cc96",
           "#ab63fa",
           "#FFA15A",
           "#19d3f3",
           "#FF6692",
           "#B6E880",
           "#FF97FF",
           "#FECB52"
          ],
          "font": {
           "color": "#2a3f5f"
          },
          "geo": {
           "bgcolor": "white",
           "lakecolor": "white",
           "landcolor": "#E5ECF6",
           "showlakes": true,
           "showland": true,
           "subunitcolor": "white"
          },
          "hoverlabel": {
           "align": "left"
          },
          "hovermode": "closest",
          "mapbox": {
           "style": "light"
          },
          "paper_bgcolor": "white",
          "plot_bgcolor": "#E5ECF6",
          "polar": {
           "angularaxis": {
            "gridcolor": "white",
            "linecolor": "white",
            "ticks": ""
           },
           "bgcolor": "#E5ECF6",
           "radialaxis": {
            "gridcolor": "white",
            "linecolor": "white",
            "ticks": ""
           }
          },
          "scene": {
           "xaxis": {
            "backgroundcolor": "#E5ECF6",
            "gridcolor": "white",
            "gridwidth": 2,
            "linecolor": "white",
            "showbackground": true,
            "ticks": "",
            "zerolinecolor": "white"
           },
           "yaxis": {
            "backgroundcolor": "#E5ECF6",
            "gridcolor": "white",
            "gridwidth": 2,
            "linecolor": "white",
            "showbackground": true,
            "ticks": "",
            "zerolinecolor": "white"
           },
           "zaxis": {
            "backgroundcolor": "#E5ECF6",
            "gridcolor": "white",
            "gridwidth": 2,
            "linecolor": "white",
            "showbackground": true,
            "ticks": "",
            "zerolinecolor": "white"
           }
          },
          "shapedefaults": {
           "line": {
            "color": "#2a3f5f"
           }
          },
          "ternary": {
           "aaxis": {
            "gridcolor": "white",
            "linecolor": "white",
            "ticks": ""
           },
           "baxis": {
            "gridcolor": "white",
            "linecolor": "white",
            "ticks": ""
           },
           "bgcolor": "#E5ECF6",
           "caxis": {
            "gridcolor": "white",
            "linecolor": "white",
            "ticks": ""
           }
          },
          "title": {
           "x": 0.05
          },
          "xaxis": {
           "automargin": true,
           "gridcolor": "white",
           "linecolor": "white",
           "ticks": "",
           "title": {
            "standoff": 15
           },
           "zerolinecolor": "white",
           "zerolinewidth": 2
          },
          "yaxis": {
           "automargin": true,
           "gridcolor": "white",
           "linecolor": "white",
           "ticks": "",
           "title": {
            "standoff": 15
           },
           "zerolinecolor": "white",
           "zerolinewidth": 2
          }
         }
        },
        "width": 1200
       }
      }
     },
     "metadata": {},
     "output_type": "display_data"
    }
   ],
   "source": [
    "fig3 = client.candlestick_chart(df3)\n",
    "fig3.show()"
   ]
  }
 ],
 "metadata": {
  "kernelspec": {
   "display_name": "venv",
   "language": "python",
   "name": "python3"
  },
  "language_info": {
   "codemirror_mode": {
    "name": "ipython",
    "version": 3
   },
   "file_extension": ".py",
   "mimetype": "text/x-python",
   "name": "python",
   "nbconvert_exporter": "python",
   "pygments_lexer": "ipython3",
   "version": "3.13.2"
  }
 },
 "nbformat": 4,
 "nbformat_minor": 5
}
