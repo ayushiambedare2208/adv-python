{
 "cells": [
  {
   "cell_type": "markdown",
   "metadata": {},
   "source": [
    "# FUNCTIONS DECORATORS\n",
    "\n",
    "13/02/2025\n",
    "1. decorators is used to modify behaviour of a function \n",
    "2. Input of decorator can be any genral function\n",
    "3. Output of decorator is called as wrapper "
   ]
  },
  {
   "cell_type": "markdown",
   "metadata": {},
   "source": [
    "Create a decorator function which will welcome the user and thank the user"
   ]
  },
  {
   "cell_type": "code",
   "execution_count": 1,
   "metadata": {},
   "outputs": [],
   "source": [
    "def welcome(func):\n",
    "    def wrapper(*args,**kwargs):\n",
    "        print(\"WELCOME BUDDY\")\n",
    "        result = func(*args, **kwargs)\n",
    "        print(f\"Result: {result}\")\n",
    "        print(\"THANK YOU\")\n",
    "        return result\n",
    "    \n",
    "    return wrapper"
   ]
  },
  {
   "cell_type": "markdown",
   "metadata": {},
   "source": [
    "Applying decorator on function\n"
   ]
  },
  {
   "cell_type": "code",
   "execution_count": 9,
   "metadata": {},
   "outputs": [],
   "source": [
    "@ welcome\n",
    "def simple_interest(p, n, r):\n",
    "    i = (p * n * r)/100\n",
    "    a = p + i \n",
    "    return i, a"
   ]
  },
  {
   "cell_type": "code",
   "execution_count": 10,
   "metadata": {},
   "outputs": [
    {
     "name": "stdout",
     "output_type": "stream",
     "text": [
      "WELCOME BUDDY\n",
      "Result: (12070.0, 46070.0)\n",
      "THANK YOU\n"
     ]
    }
   ],
   "source": [
    "#Input as kwargs\n",
    "r1 = simple_interest(p = 34000, n = 5, r = 7.1)"
   ]
  },
  {
   "cell_type": "code",
   "execution_count": 11,
   "metadata": {},
   "outputs": [
    {
     "data": {
      "text/plain": [
       "(12070.0, 46070.0)"
      ]
     },
     "execution_count": 11,
     "metadata": {},
     "output_type": "execute_result"
    }
   ],
   "source": [
    "r1"
   ]
  },
  {
   "cell_type": "code",
   "execution_count": 12,
   "metadata": {},
   "outputs": [
    {
     "name": "stdout",
     "output_type": "stream",
     "text": [
      "WELCOME BUDDY\n",
      "Result: (2925.0, 17925.0)\n",
      "THANK YOU\n"
     ]
    }
   ],
   "source": [
    "#Input as args\n",
    "r2 = simple_interest(15000, 3, 6.5)"
   ]
  },
  {
   "cell_type": "code",
   "execution_count": 13,
   "metadata": {},
   "outputs": [
    {
     "data": {
      "text/plain": [
       "(2925.0, 17925.0)"
      ]
     },
     "execution_count": 13,
     "metadata": {},
     "output_type": "execute_result"
    }
   ],
   "source": [
    "r2"
   ]
  },
  {
   "cell_type": "code",
   "execution_count": 14,
   "metadata": {},
   "outputs": [],
   "source": [
    "@welcome\n",
    "def hypotenuse(a, b):\n",
    "    hyp = (a**2 + b**2)**1/2\n",
    "    return hyp"
   ]
  },
  {
   "cell_type": "code",
   "execution_count": 15,
   "metadata": {},
   "outputs": [
    {
     "name": "stdout",
     "output_type": "stream",
     "text": [
      "WELCOME BUDDY\n",
      "Result: 90.5\n",
      "THANK YOU\n"
     ]
    }
   ],
   "source": [
    "h1 = hypotenuse(9, 10)"
   ]
  },
  {
   "cell_type": "code",
   "execution_count": 16,
   "metadata": {},
   "outputs": [
    {
     "data": {
      "text/plain": [
       "90.5"
      ]
     },
     "execution_count": 16,
     "metadata": {},
     "output_type": "execute_result"
    }
   ],
   "source": [
    "h1"
   ]
  },
  {
   "cell_type": "code",
   "execution_count": 17,
   "metadata": {},
   "outputs": [
    {
     "name": "stdout",
     "output_type": "stream",
     "text": [
      "WELCOME BUDDY\n",
      "Result: 670.08925\n",
      "THANK YOU\n"
     ]
    }
   ],
   "source": [
    "h2 = hypotenuse(12.44, 34.43)"
   ]
  },
  {
   "cell_type": "code",
   "execution_count": 18,
   "metadata": {},
   "outputs": [
    {
     "data": {
      "text/plain": [
       "670.08925"
      ]
     },
     "execution_count": 18,
     "metadata": {},
     "output_type": "execute_result"
    }
   ],
   "source": [
    "h2"
   ]
  },
  {
   "cell_type": "markdown",
   "metadata": {},
   "source": [
    "I want to check the time required for code execution "
   ]
  },
  {
   "cell_type": "code",
   "execution_count": 19,
   "metadata": {},
   "outputs": [],
   "source": [
    "import time "
   ]
  },
  {
   "cell_type": "code",
   "execution_count": 20,
   "metadata": {},
   "outputs": [
    {
     "name": "stdout",
     "output_type": "stream",
     "text": [
      "Hello !!\n"
     ]
    }
   ],
   "source": [
    "time.sleep(5)\n",
    "print(\"Hello !!\")"
   ]
  },
  {
   "cell_type": "code",
   "execution_count": 21,
   "metadata": {},
   "outputs": [
    {
     "name": "stdout",
     "output_type": "stream",
     "text": [
      "91125\n",
      "Time required to execute the above code is 411700.00 nano-seconds\n"
     ]
    }
   ],
   "source": [
    "# Measurin time in nanosecond \n",
    "start = time.perf_counter_ns()\n",
    "print(45**3)\n",
    "stop = time.perf_counter_ns()\n",
    "duration = stop - start \n",
    "print(f\"Time required to execute the above code is {duration:.2f} nano-seconds\")"
   ]
  },
  {
   "cell_type": "code",
   "execution_count": 24,
   "metadata": {},
   "outputs": [
    {
     "name": "stdout",
     "output_type": "stream",
     "text": [
      "Welcome to this code\n",
      "Advance Python class is going on \n",
      " Time required to execute this code with intensional time delay of 7 sec is 7.001500900000792 secs\n"
     ]
    }
   ],
   "source": [
    "# Measuring time in seconds\n",
    "start = time.perf_counter()\n",
    "time.sleep(5)\n",
    "print(\"Welcome to this code\")\n",
    "time.sleep(2)\n",
    "print(\"Advance Python class is going on \")\n",
    "stop = time.perf_counter()\n",
    "dur = stop - start \n",
    "print(f\" Time required to execute this code with intensional time delay of 7 sec is {dur} secs\")"
   ]
  },
  {
   "cell_type": "code",
   "execution_count": null,
   "metadata": {},
   "outputs": [],
   "source": [
    "#"
   ]
  }
 ],
 "metadata": {
  "kernelspec": {
   "display_name": "venv",
   "language": "python",
   "name": "python3"
  },
  "language_info": {
   "codemirror_mode": {
    "name": "ipython",
    "version": 3
   },
   "file_extension": ".py",
   "mimetype": "text/x-python",
   "name": "python",
   "nbconvert_exporter": "python",
   "pygments_lexer": "ipython3",
   "version": "3.13.2"
  }
 },
 "nbformat": 4,
 "nbformat_minor": 2
}
