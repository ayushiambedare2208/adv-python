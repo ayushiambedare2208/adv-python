{
 "cells": [
  {
   "cell_type": "markdown",
   "metadata": {},
   "source": [
    "# VARIADIC FUNCTION"
   ]
  },
  {
   "cell_type": "markdown",
   "metadata": {},
   "source": [
    "# KEYBOARD SHORTCUT (07/02/2025)\n",
    "1. esc, y = Code cell\n",
    "2. esc, m = markdown\n",
    "3. shift + enter = run the cell"
   ]
  },
  {
   "cell_type": "code",
   "execution_count": 3,
   "metadata": {},
   "outputs": [],
   "source": [
    "def add(a: int|float, b: int|float)-> int|float:\n",
    "    c = a + b\n",
    "    return c\n"
   ]
  },
  {
   "cell_type": "code",
   "execution_count": 4,
   "metadata": {},
   "outputs": [
    {
     "data": {
      "text/plain": [
       "16"
      ]
     },
     "execution_count": 4,
     "metadata": {},
     "output_type": "execute_result"
    }
   ],
   "source": [
    "# ARGUMENTS INPUT\n",
    "add(7, 9)"
   ]
  },
  {
   "cell_type": "code",
   "execution_count": 5,
   "metadata": {},
   "outputs": [
    {
     "data": {
      "text/plain": [
       "29.79"
      ]
     },
     "execution_count": 5,
     "metadata": {},
     "output_type": "execute_result"
    }
   ],
   "source": [
    "add(12.34, 17.45)"
   ]
  },
  {
   "cell_type": "code",
   "execution_count": 6,
   "metadata": {},
   "outputs": [
    {
     "data": {
      "text/plain": [
       "79"
      ]
     },
     "execution_count": 6,
     "metadata": {},
     "output_type": "execute_result"
    }
   ],
   "source": [
    "# KEYWORD ARGUMENTS IN PYTHON \n",
    "add(a = 23, b= 56)"
   ]
  },
  {
   "cell_type": "markdown",
   "metadata": {},
   "source": [
    "# TRYING TO ADD 3 VARIABLES USING THE ADD FUNCTION WHICH HAS ONLY TWO PARAMETERS "
   ]
  },
  {
   "cell_type": "markdown",
   "metadata": {},
   "source": [
    "# Create args inside function \n",
    "*args = this will act like a tuple in python"
   ]
  },
  {
   "cell_type": "code",
   "execution_count": 7,
   "metadata": {},
   "outputs": [],
   "source": [
    "def function(*args):\n",
    "    print(args)\n",
    "    print(type(args))\n",
    "    for i in args :\n",
    "        print(i)"
   ]
  },
  {
   "cell_type": "code",
   "execution_count": 8,
   "metadata": {},
   "outputs": [
    {
     "name": "stdout",
     "output_type": "stream",
     "text": [
      "(7, 8, 9)\n",
      "<class 'tuple'>\n",
      "7\n",
      "8\n",
      "9\n"
     ]
    }
   ],
   "source": [
    "function(7, 8, 9)"
   ]
  },
  {
   "cell_type": "markdown",
   "metadata": {},
   "source": [
    "# Unpack a list using *list_name "
   ]
  },
  {
   "cell_type": "code",
   "execution_count": 9,
   "metadata": {},
   "outputs": [],
   "source": [
    "a = [\"Ayushi\", \"Pranay\", \"Pradutt\",\"Megha\", True , False]"
   ]
  },
  {
   "cell_type": "code",
   "execution_count": 11,
   "metadata": {},
   "outputs": [
    {
     "name": "stdout",
     "output_type": "stream",
     "text": [
      "('Ayushi', 'Pranay', 'Pradutt', 'Megha', True, False)\n",
      "<class 'tuple'>\n",
      "Ayushi\n",
      "Pranay\n",
      "Pradutt\n",
      "Megha\n",
      "True\n",
      "False\n"
     ]
    }
   ],
   "source": [
    "function(*a)"
   ]
  },
  {
   "cell_type": "markdown",
   "metadata": {},
   "source": [
    "# Given the cart products of a customers total billing of products "
   ]
  },
  {
   "cell_type": "code",
   "execution_count": 13,
   "metadata": {},
   "outputs": [],
   "source": [
    "l1 =[\n",
    "    (\"Laptop\", 75000, 2),\n",
    "    (\"Mouse\", 1500, 3),\n",
    "    (\"Keyboard\", 2000, 1)\n",
    "]"
   ]
  },
  {
   "cell_type": "code",
   "execution_count": 15,
   "metadata": {},
   "outputs": [],
   "source": [
    "def billing(*args):\n",
    "    # Initialize total bill with 0\n",
    "    total_bill = 0\n",
    "\n",
    "    # apply for loop on args \n",
    "    for name, price, qty in args:\n",
    "        subtotal = price*qty\n",
    "        total_bill = total_bill + subtotal\n",
    "        print(f\"Name:{name}, Price:{price} INR, Quantity:{qty}\")\n",
    "        print(f\"Subtotal : {subtotal} INR\")\n",
    "        print(\"\\n---------------------------\\n\")\n",
    "\n",
    "    # print and return total bill\n",
    "    print(f\"Total Bill:{total_bill:.2f} INR\")\n",
    "    return total_bill"
   ]
  },
  {
   "cell_type": "code",
   "execution_count": 16,
   "metadata": {},
   "outputs": [
    {
     "name": "stdout",
     "output_type": "stream",
     "text": [
      "Name:Laptop, Price:75000 INR, Quantity:2\n",
      "Subtotal : 150000 INR\n",
      "\n",
      "---------------------------\n",
      "\n",
      "Name:Mouse, Price:1500 INR, Quantity:3\n",
      "Subtotal : 4500 INR\n",
      "\n",
      "---------------------------\n",
      "\n",
      "Name:Keyboard, Price:2000 INR, Quantity:1\n",
      "Subtotal : 2000 INR\n",
      "\n",
      "---------------------------\n",
      "\n",
      "Total Bill:156500.00 INR\n"
     ]
    }
   ],
   "source": [
    "t1 = billing(*l1)"
   ]
  },
  {
   "cell_type": "code",
   "execution_count": 17,
   "metadata": {},
   "outputs": [
    {
     "data": {
      "text/plain": [
       "156500"
      ]
     },
     "execution_count": 17,
     "metadata": {},
     "output_type": "execute_result"
    }
   ],
   "source": [
    "t1"
   ]
  },
  {
   "cell_type": "markdown",
   "metadata": {},
   "source": [
    "# Flexible in keywords arguments\n",
    "**kwargs - These act like a dictionary in python \n",
    "\n",
    "{key1:value1, key2:value2, key3:value3}"
   ]
  },
  {
   "cell_type": "code",
   "execution_count": 24,
   "metadata": {},
   "outputs": [],
   "source": [
    "def function_2(**kwargs):\n",
    "    print(kwargs)\n",
    "    print(type(kwargs))\n",
    "    for key, value in kwargs.items():\n",
    "        print(f\"Keys:{key},Values:{value}\")"
   ]
  },
  {
   "cell_type": "code",
   "execution_count": 25,
   "metadata": {},
   "outputs": [
    {
     "name": "stdout",
     "output_type": "stream",
     "text": [
      "{'a': 10, 'b': 20, 'name': 'Ayushi', 'surname': 'Ambedare', 'status': 'unmarrried'}\n",
      "<class 'dict'>\n",
      "Keys:a,Values:10\n",
      "Keys:b,Values:20\n",
      "Keys:name,Values:Ayushi\n",
      "Keys:surname,Values:Ambedare\n",
      "Keys:status,Values:unmarrried\n"
     ]
    }
   ],
   "source": [
    "function_2(a = 10, b = 20, name =\"Ayushi\", surname =\"Ambedare\", status =\"unmarrried\" )"
   ]
  },
  {
   "cell_type": "markdown",
   "metadata": {},
   "source": [
    "# STORING INFORMATION ABOUT DIFFERENT USERS\n"
   ]
  },
  {
   "cell_type": "code",
   "execution_count": 38,
   "metadata": {},
   "outputs": [],
   "source": [
    "def user (**kwargs):\n",
    "    user={\n",
    "        \"name\":None,\n",
    "        \"age\":None,\n",
    "        \"email\":None\n",
    "    }\n",
    "    user.update(kwargs)\n",
    "    return user"
   ]
  },
  {
   "cell_type": "code",
   "execution_count": 44,
   "metadata": {},
   "outputs": [],
   "source": [
    "u1 =user(\n",
    "    name = \"Ayushi\",\n",
    "    age = 23,\n",
    "    email = \"ayushiambedare2002@gmail.com\"\n",
    ")"
   ]
  },
  {
   "cell_type": "code",
   "execution_count": 45,
   "metadata": {},
   "outputs": [
    {
     "name": "stdout",
     "output_type": "stream",
     "text": [
      "{'name': 'Ayushi', 'age': 23, 'email': 'ayushiambedare2002@gmail.com'}\n"
     ]
    }
   ],
   "source": [
    "print(u1)"
   ]
  },
  {
   "cell_type": "code",
   "execution_count": 47,
   "metadata": {},
   "outputs": [],
   "source": [
    "u2 = user(\n",
    "    name = \"Pranay\",\n",
    "    age = 23,\n",
    "    email = \"pranaychachane2002@gmail.com\",\n",
    "    blood = \"O+ve\"\n",
    ")"
   ]
  },
  {
   "cell_type": "code",
   "execution_count": 48,
   "metadata": {},
   "outputs": [
    {
     "data": {
      "text/plain": [
       "{'name': 'Pranay',\n",
       " 'age': 23,\n",
       " 'email': 'pranaychachane2002@gmail.com',\n",
       " 'blood': 'O+ve'}"
      ]
     },
     "execution_count": 48,
     "metadata": {},
     "output_type": "execute_result"
    }
   ],
   "source": [
    "u2"
   ]
  },
  {
   "cell_type": "code",
   "execution_count": null,
   "metadata": {},
   "outputs": [],
   "source": []
  }
 ],
 "metadata": {
  "kernelspec": {
   "display_name": "venv",
   "language": "python",
   "name": "python3"
  },
  "language_info": {
   "codemirror_mode": {
    "name": "ipython",
    "version": 3
   },
   "file_extension": ".py",
   "mimetype": "text/x-python",
   "name": "python",
   "nbconvert_exporter": "python",
   "pygments_lexer": "ipython3",
   "version": "3.13.2"
  }
 },
 "nbformat": 4,
 "nbformat_minor": 2
}
